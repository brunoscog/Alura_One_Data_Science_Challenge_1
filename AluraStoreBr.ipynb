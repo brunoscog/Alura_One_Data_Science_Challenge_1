{
  "nbformat": 4,
  "nbformat_minor": 0,
  "metadata": {
    "colab": {
      "provenance": [],
      "include_colab_link": true
    },
    "kernelspec": {
      "name": "python3",
      "display_name": "Python 3"
    },
    "language_info": {
      "name": "python"
    }
  },
  "cells": [
    {
      "cell_type": "markdown",
      "metadata": {
        "id": "view-in-github",
        "colab_type": "text"
      },
      "source": [
        "<a href=\"https://colab.research.google.com/github/brunoscog/Alura_One_Data_Science_Challenge_1/blob/main/AluraStoreBr.ipynb\" target=\"_parent\"><img src=\"https://colab.research.google.com/assets/colab-badge.svg\" alt=\"Open In Colab\"/></a>"
      ]
    },
    {
      "cell_type": "markdown",
      "source": [
        "#**Aura|ONE - Challenge 1 Tech Foundations**\n",
        "###*Python para Data Science*"
      ],
      "metadata": {
        "id": "iC1_6w2MCcpV"
      }
    },
    {
      "cell_type": "code",
      "source": [
        "loja"
      ],
      "metadata": {
        "colab": {
          "base_uri": "https://localhost:8080/",
          "height": 35
        },
        "id": "Df16cuAZJP2L",
        "outputId": "0e991e58-170e-4cf1-9327-97cc7967b385"
      },
      "execution_count": 268,
      "outputs": [
        {
          "output_type": "execute_result",
          "data": {
            "text/plain": [
              "'Loja 1'"
            ],
            "application/vnd.google.colaboratory.intrinsic+json": {
              "type": "string"
            }
          },
          "metadata": {},
          "execution_count": 268
        }
      ]
    },
    {
      "cell_type": "markdown",
      "source": [
        "##**Importação dos dados**\n",
        "\n"
      ],
      "metadata": {
        "id": "RhEdWd9YUR6H"
      }
    },
    {
      "cell_type": "code",
      "execution_count": 269,
      "metadata": {
        "colab": {
          "base_uri": "https://localhost:8080/",
          "height": 293
        },
        "id": "T3EvaeQ_INIL",
        "outputId": "32644763-081e-4e78-fbb4-9a05f4f03c51"
      },
      "outputs": [
        {
          "output_type": "execute_result",
          "data": {
            "text/plain": [
              "                 Produto Categoria do Produto    Preço      Frete  \\\n",
              "0     Assistente virtual          eletronicos   219.08   9.249790   \n",
              "1         Mesa de jantar               moveis   256.35  11.234305   \n",
              "2      Jogo de tabuleiro           brinquedos   279.51  21.262681   \n",
              "3            Micro-ondas     eletrodomesticos  1009.99  54.667344   \n",
              "4  Cadeira de escritório               moveis   446.99  26.964689   \n",
              "\n",
              "  Data da Compra        Vendedor Local da compra  Avaliação da compra  \\\n",
              "0     16/01/2021     Pedro Gomes              SP                    4   \n",
              "1     18/05/2022  Beatriz Moraes              RJ                    1   \n",
              "2     15/03/2021      João Souza              DF                    1   \n",
              "3     03/05/2022      João Souza              RS                    4   \n",
              "4     07/11/2020   Larissa Alves              MG                    5   \n",
              "\n",
              "  Tipo de pagamento  Quantidade de parcelas    lat    lon  \n",
              "0    cartao_credito                       8 -22.19 -48.79  \n",
              "1    cartao_credito                       4 -22.25 -42.66  \n",
              "2    cartao_credito                       1 -15.83 -47.86  \n",
              "3            boleto                       1 -30.17 -53.50  \n",
              "4            boleto                       1 -18.10 -44.38  "
            ],
            "text/html": [
              "\n",
              "  <div id=\"df-74382901-3956-4036-a32b-e351611ef740\" class=\"colab-df-container\">\n",
              "    <div>\n",
              "<style scoped>\n",
              "    .dataframe tbody tr th:only-of-type {\n",
              "        vertical-align: middle;\n",
              "    }\n",
              "\n",
              "    .dataframe tbody tr th {\n",
              "        vertical-align: top;\n",
              "    }\n",
              "\n",
              "    .dataframe thead th {\n",
              "        text-align: right;\n",
              "    }\n",
              "</style>\n",
              "<table border=\"1\" class=\"dataframe\">\n",
              "  <thead>\n",
              "    <tr style=\"text-align: right;\">\n",
              "      <th></th>\n",
              "      <th>Produto</th>\n",
              "      <th>Categoria do Produto</th>\n",
              "      <th>Preço</th>\n",
              "      <th>Frete</th>\n",
              "      <th>Data da Compra</th>\n",
              "      <th>Vendedor</th>\n",
              "      <th>Local da compra</th>\n",
              "      <th>Avaliação da compra</th>\n",
              "      <th>Tipo de pagamento</th>\n",
              "      <th>Quantidade de parcelas</th>\n",
              "      <th>lat</th>\n",
              "      <th>lon</th>\n",
              "    </tr>\n",
              "  </thead>\n",
              "  <tbody>\n",
              "    <tr>\n",
              "      <th>0</th>\n",
              "      <td>Assistente virtual</td>\n",
              "      <td>eletronicos</td>\n",
              "      <td>219.08</td>\n",
              "      <td>9.249790</td>\n",
              "      <td>16/01/2021</td>\n",
              "      <td>Pedro Gomes</td>\n",
              "      <td>SP</td>\n",
              "      <td>4</td>\n",
              "      <td>cartao_credito</td>\n",
              "      <td>8</td>\n",
              "      <td>-22.19</td>\n",
              "      <td>-48.79</td>\n",
              "    </tr>\n",
              "    <tr>\n",
              "      <th>1</th>\n",
              "      <td>Mesa de jantar</td>\n",
              "      <td>moveis</td>\n",
              "      <td>256.35</td>\n",
              "      <td>11.234305</td>\n",
              "      <td>18/05/2022</td>\n",
              "      <td>Beatriz Moraes</td>\n",
              "      <td>RJ</td>\n",
              "      <td>1</td>\n",
              "      <td>cartao_credito</td>\n",
              "      <td>4</td>\n",
              "      <td>-22.25</td>\n",
              "      <td>-42.66</td>\n",
              "    </tr>\n",
              "    <tr>\n",
              "      <th>2</th>\n",
              "      <td>Jogo de tabuleiro</td>\n",
              "      <td>brinquedos</td>\n",
              "      <td>279.51</td>\n",
              "      <td>21.262681</td>\n",
              "      <td>15/03/2021</td>\n",
              "      <td>João Souza</td>\n",
              "      <td>DF</td>\n",
              "      <td>1</td>\n",
              "      <td>cartao_credito</td>\n",
              "      <td>1</td>\n",
              "      <td>-15.83</td>\n",
              "      <td>-47.86</td>\n",
              "    </tr>\n",
              "    <tr>\n",
              "      <th>3</th>\n",
              "      <td>Micro-ondas</td>\n",
              "      <td>eletrodomesticos</td>\n",
              "      <td>1009.99</td>\n",
              "      <td>54.667344</td>\n",
              "      <td>03/05/2022</td>\n",
              "      <td>João Souza</td>\n",
              "      <td>RS</td>\n",
              "      <td>4</td>\n",
              "      <td>boleto</td>\n",
              "      <td>1</td>\n",
              "      <td>-30.17</td>\n",
              "      <td>-53.50</td>\n",
              "    </tr>\n",
              "    <tr>\n",
              "      <th>4</th>\n",
              "      <td>Cadeira de escritório</td>\n",
              "      <td>moveis</td>\n",
              "      <td>446.99</td>\n",
              "      <td>26.964689</td>\n",
              "      <td>07/11/2020</td>\n",
              "      <td>Larissa Alves</td>\n",
              "      <td>MG</td>\n",
              "      <td>5</td>\n",
              "      <td>boleto</td>\n",
              "      <td>1</td>\n",
              "      <td>-18.10</td>\n",
              "      <td>-44.38</td>\n",
              "    </tr>\n",
              "  </tbody>\n",
              "</table>\n",
              "</div>\n",
              "    <div class=\"colab-df-buttons\">\n",
              "\n",
              "  <div class=\"colab-df-container\">\n",
              "    <button class=\"colab-df-convert\" onclick=\"convertToInteractive('df-74382901-3956-4036-a32b-e351611ef740')\"\n",
              "            title=\"Convert this dataframe to an interactive table.\"\n",
              "            style=\"display:none;\">\n",
              "\n",
              "  <svg xmlns=\"http://www.w3.org/2000/svg\" height=\"24px\" viewBox=\"0 -960 960 960\">\n",
              "    <path d=\"M120-120v-720h720v720H120Zm60-500h600v-160H180v160Zm220 220h160v-160H400v160Zm0 220h160v-160H400v160ZM180-400h160v-160H180v160Zm440 0h160v-160H620v160ZM180-180h160v-160H180v160Zm440 0h160v-160H620v160Z\"/>\n",
              "  </svg>\n",
              "    </button>\n",
              "\n",
              "  <style>\n",
              "    .colab-df-container {\n",
              "      display:flex;\n",
              "      gap: 12px;\n",
              "    }\n",
              "\n",
              "    .colab-df-convert {\n",
              "      background-color: #E8F0FE;\n",
              "      border: none;\n",
              "      border-radius: 50%;\n",
              "      cursor: pointer;\n",
              "      display: none;\n",
              "      fill: #1967D2;\n",
              "      height: 32px;\n",
              "      padding: 0 0 0 0;\n",
              "      width: 32px;\n",
              "    }\n",
              "\n",
              "    .colab-df-convert:hover {\n",
              "      background-color: #E2EBFA;\n",
              "      box-shadow: 0px 1px 2px rgba(60, 64, 67, 0.3), 0px 1px 3px 1px rgba(60, 64, 67, 0.15);\n",
              "      fill: #174EA6;\n",
              "    }\n",
              "\n",
              "    .colab-df-buttons div {\n",
              "      margin-bottom: 4px;\n",
              "    }\n",
              "\n",
              "    [theme=dark] .colab-df-convert {\n",
              "      background-color: #3B4455;\n",
              "      fill: #D2E3FC;\n",
              "    }\n",
              "\n",
              "    [theme=dark] .colab-df-convert:hover {\n",
              "      background-color: #434B5C;\n",
              "      box-shadow: 0px 1px 3px 1px rgba(0, 0, 0, 0.15);\n",
              "      filter: drop-shadow(0px 1px 2px rgba(0, 0, 0, 0.3));\n",
              "      fill: #FFFFFF;\n",
              "    }\n",
              "  </style>\n",
              "\n",
              "    <script>\n",
              "      const buttonEl =\n",
              "        document.querySelector('#df-74382901-3956-4036-a32b-e351611ef740 button.colab-df-convert');\n",
              "      buttonEl.style.display =\n",
              "        google.colab.kernel.accessAllowed ? 'block' : 'none';\n",
              "\n",
              "      async function convertToInteractive(key) {\n",
              "        const element = document.querySelector('#df-74382901-3956-4036-a32b-e351611ef740');\n",
              "        const dataTable =\n",
              "          await google.colab.kernel.invokeFunction('convertToInteractive',\n",
              "                                                    [key], {});\n",
              "        if (!dataTable) return;\n",
              "\n",
              "        const docLinkHtml = 'Like what you see? Visit the ' +\n",
              "          '<a target=\"_blank\" href=https://colab.research.google.com/notebooks/data_table.ipynb>data table notebook</a>'\n",
              "          + ' to learn more about interactive tables.';\n",
              "        element.innerHTML = '';\n",
              "        dataTable['output_type'] = 'display_data';\n",
              "        await google.colab.output.renderOutput(dataTable, element);\n",
              "        const docLink = document.createElement('div');\n",
              "        docLink.innerHTML = docLinkHtml;\n",
              "        element.appendChild(docLink);\n",
              "      }\n",
              "    </script>\n",
              "  </div>\n",
              "\n",
              "\n",
              "<div id=\"df-a77497cb-0449-4ade-a25e-75ec1dcd3a27\">\n",
              "  <button class=\"colab-df-quickchart\" onclick=\"quickchart('df-a77497cb-0449-4ade-a25e-75ec1dcd3a27')\"\n",
              "            title=\"Suggest charts\"\n",
              "            style=\"display:none;\">\n",
              "\n",
              "<svg xmlns=\"http://www.w3.org/2000/svg\" height=\"24px\"viewBox=\"0 0 24 24\"\n",
              "     width=\"24px\">\n",
              "    <g>\n",
              "        <path d=\"M19 3H5c-1.1 0-2 .9-2 2v14c0 1.1.9 2 2 2h14c1.1 0 2-.9 2-2V5c0-1.1-.9-2-2-2zM9 17H7v-7h2v7zm4 0h-2V7h2v10zm4 0h-2v-4h2v4z\"/>\n",
              "    </g>\n",
              "</svg>\n",
              "  </button>\n",
              "\n",
              "<style>\n",
              "  .colab-df-quickchart {\n",
              "      --bg-color: #E8F0FE;\n",
              "      --fill-color: #1967D2;\n",
              "      --hover-bg-color: #E2EBFA;\n",
              "      --hover-fill-color: #174EA6;\n",
              "      --disabled-fill-color: #AAA;\n",
              "      --disabled-bg-color: #DDD;\n",
              "  }\n",
              "\n",
              "  [theme=dark] .colab-df-quickchart {\n",
              "      --bg-color: #3B4455;\n",
              "      --fill-color: #D2E3FC;\n",
              "      --hover-bg-color: #434B5C;\n",
              "      --hover-fill-color: #FFFFFF;\n",
              "      --disabled-bg-color: #3B4455;\n",
              "      --disabled-fill-color: #666;\n",
              "  }\n",
              "\n",
              "  .colab-df-quickchart {\n",
              "    background-color: var(--bg-color);\n",
              "    border: none;\n",
              "    border-radius: 50%;\n",
              "    cursor: pointer;\n",
              "    display: none;\n",
              "    fill: var(--fill-color);\n",
              "    height: 32px;\n",
              "    padding: 0;\n",
              "    width: 32px;\n",
              "  }\n",
              "\n",
              "  .colab-df-quickchart:hover {\n",
              "    background-color: var(--hover-bg-color);\n",
              "    box-shadow: 0 1px 2px rgba(60, 64, 67, 0.3), 0 1px 3px 1px rgba(60, 64, 67, 0.15);\n",
              "    fill: var(--button-hover-fill-color);\n",
              "  }\n",
              "\n",
              "  .colab-df-quickchart-complete:disabled,\n",
              "  .colab-df-quickchart-complete:disabled:hover {\n",
              "    background-color: var(--disabled-bg-color);\n",
              "    fill: var(--disabled-fill-color);\n",
              "    box-shadow: none;\n",
              "  }\n",
              "\n",
              "  .colab-df-spinner {\n",
              "    border: 2px solid var(--fill-color);\n",
              "    border-color: transparent;\n",
              "    border-bottom-color: var(--fill-color);\n",
              "    animation:\n",
              "      spin 1s steps(1) infinite;\n",
              "  }\n",
              "\n",
              "  @keyframes spin {\n",
              "    0% {\n",
              "      border-color: transparent;\n",
              "      border-bottom-color: var(--fill-color);\n",
              "      border-left-color: var(--fill-color);\n",
              "    }\n",
              "    20% {\n",
              "      border-color: transparent;\n",
              "      border-left-color: var(--fill-color);\n",
              "      border-top-color: var(--fill-color);\n",
              "    }\n",
              "    30% {\n",
              "      border-color: transparent;\n",
              "      border-left-color: var(--fill-color);\n",
              "      border-top-color: var(--fill-color);\n",
              "      border-right-color: var(--fill-color);\n",
              "    }\n",
              "    40% {\n",
              "      border-color: transparent;\n",
              "      border-right-color: var(--fill-color);\n",
              "      border-top-color: var(--fill-color);\n",
              "    }\n",
              "    60% {\n",
              "      border-color: transparent;\n",
              "      border-right-color: var(--fill-color);\n",
              "    }\n",
              "    80% {\n",
              "      border-color: transparent;\n",
              "      border-right-color: var(--fill-color);\n",
              "      border-bottom-color: var(--fill-color);\n",
              "    }\n",
              "    90% {\n",
              "      border-color: transparent;\n",
              "      border-bottom-color: var(--fill-color);\n",
              "    }\n",
              "  }\n",
              "</style>\n",
              "\n",
              "  <script>\n",
              "    async function quickchart(key) {\n",
              "      const quickchartButtonEl =\n",
              "        document.querySelector('#' + key + ' button');\n",
              "      quickchartButtonEl.disabled = true;  // To prevent multiple clicks.\n",
              "      quickchartButtonEl.classList.add('colab-df-spinner');\n",
              "      try {\n",
              "        const charts = await google.colab.kernel.invokeFunction(\n",
              "            'suggestCharts', [key], {});\n",
              "      } catch (error) {\n",
              "        console.error('Error during call to suggestCharts:', error);\n",
              "      }\n",
              "      quickchartButtonEl.classList.remove('colab-df-spinner');\n",
              "      quickchartButtonEl.classList.add('colab-df-quickchart-complete');\n",
              "    }\n",
              "    (() => {\n",
              "      let quickchartButtonEl =\n",
              "        document.querySelector('#df-a77497cb-0449-4ade-a25e-75ec1dcd3a27 button');\n",
              "      quickchartButtonEl.style.display =\n",
              "        google.colab.kernel.accessAllowed ? 'block' : 'none';\n",
              "    })();\n",
              "  </script>\n",
              "</div>\n",
              "\n",
              "    </div>\n",
              "  </div>\n"
            ],
            "application/vnd.google.colaboratory.intrinsic+json": {
              "type": "dataframe",
              "variable_name": "loja",
              "summary": "{\n  \"name\": \"loja\",\n  \"rows\": 2359,\n  \"fields\": [\n    {\n      \"column\": \"Produto\",\n      \"properties\": {\n        \"dtype\": \"category\",\n        \"num_unique_values\": 51,\n        \"samples\": [\n          \"Viol\\u00e3o\",\n          \"Bola de basquete\",\n          \"Smartwatch\"\n        ],\n        \"semantic_type\": \"\",\n        \"description\": \"\"\n      }\n    },\n    {\n      \"column\": \"Categoria do Produto\",\n      \"properties\": {\n        \"dtype\": \"category\",\n        \"num_unique_values\": 8,\n        \"samples\": [\n          \"moveis\",\n          \"esporte e lazer\",\n          \"eletronicos\"\n        ],\n        \"semantic_type\": \"\",\n        \"description\": \"\"\n      }\n    },\n    {\n      \"column\": \"Pre\\u00e7o\",\n      \"properties\": {\n        \"dtype\": \"number\",\n        \"std\": 819.5827782539145,\n        \"min\": 10.07,\n        \"max\": 3969.38,\n        \"num_unique_values\": 2315,\n        \"samples\": [\n          446.11,\n          107.31,\n          65.86\n        ],\n        \"semantic_type\": \"\",\n        \"description\": \"\"\n      }\n    },\n    {\n      \"column\": \"Frete\",\n      \"properties\": {\n        \"dtype\": \"number\",\n        \"std\": 43.814183327408166,\n        \"min\": 0.0,\n        \"max\": 214.3770604781,\n        \"num_unique_values\": 2149,\n        \"samples\": [\n          83.815279607,\n          16.069664669,\n          14.0344876928\n        ],\n        \"semantic_type\": \"\",\n        \"description\": \"\"\n      }\n    },\n    {\n      \"column\": \"Data da Compra\",\n      \"properties\": {\n        \"dtype\": \"object\",\n        \"num_unique_values\": 1018,\n        \"samples\": [\n          \"15/09/2022\",\n          \"03/06/2020\",\n          \"06/11/2021\"\n        ],\n        \"semantic_type\": \"\",\n        \"description\": \"\"\n      }\n    },\n    {\n      \"column\": \"Vendedor\",\n      \"properties\": {\n        \"dtype\": \"category\",\n        \"num_unique_values\": 14,\n        \"samples\": [\n          \"Juliana Costa\",\n          \"Mariana Ferreira\",\n          \"Pedro Gomes\"\n        ],\n        \"semantic_type\": \"\",\n        \"description\": \"\"\n      }\n    },\n    {\n      \"column\": \"Local da compra\",\n      \"properties\": {\n        \"dtype\": \"category\",\n        \"num_unique_values\": 26,\n        \"samples\": [\n          \"TO\",\n          \"RN\",\n          \"SP\"\n        ],\n        \"semantic_type\": \"\",\n        \"description\": \"\"\n      }\n    },\n    {\n      \"column\": \"Avalia\\u00e7\\u00e3o da compra\",\n      \"properties\": {\n        \"dtype\": \"number\",\n        \"std\": 1,\n        \"min\": 1,\n        \"max\": 5,\n        \"num_unique_values\": 5,\n        \"samples\": [\n          1,\n          2,\n          5\n        ],\n        \"semantic_type\": \"\",\n        \"description\": \"\"\n      }\n    },\n    {\n      \"column\": \"Tipo de pagamento\",\n      \"properties\": {\n        \"dtype\": \"category\",\n        \"num_unique_values\": 4,\n        \"samples\": [\n          \"boleto\",\n          \"cartao_debito\",\n          \"cartao_credito\"\n        ],\n        \"semantic_type\": \"\",\n        \"description\": \"\"\n      }\n    },\n    {\n      \"column\": \"Quantidade de parcelas\",\n      \"properties\": {\n        \"dtype\": \"number\",\n        \"std\": 2,\n        \"min\": 1,\n        \"max\": 24,\n        \"num_unique_values\": 15,\n        \"samples\": [\n          7,\n          14,\n          8\n        ],\n        \"semantic_type\": \"\",\n        \"description\": \"\"\n      }\n    },\n    {\n      \"column\": \"lat\",\n      \"properties\": {\n        \"dtype\": \"number\",\n        \"std\": 5.372399916530833,\n        \"min\": -30.17,\n        \"max\": 1.41,\n        \"num_unique_values\": 26,\n        \"samples\": [\n          -9.46,\n          -5.81,\n          -22.19\n        ],\n        \"semantic_type\": \"\",\n        \"description\": \"\"\n      }\n    },\n    {\n      \"column\": \"lon\",\n      \"properties\": {\n        \"dtype\": \"number\",\n        \"std\": 4.183180020544179,\n        \"min\": -70.55,\n        \"max\": -36.59,\n        \"num_unique_values\": 26,\n        \"samples\": [\n          -48.26,\n          -36.59,\n          -48.79\n        ],\n        \"semantic_type\": \"\",\n        \"description\": \"\"\n      }\n    }\n  ]\n}"
            }
          },
          "metadata": {},
          "execution_count": 269
        }
      ],
      "source": [
        "import pandas as pd\n",
        "\n",
        "url = \"https://raw.githubusercontent.com/alura-es-cursos/challenge1-data-science/refs/heads/main/base-de-dados-challenge-1/loja_1.csv\"\n",
        "url2 = \"https://raw.githubusercontent.com/alura-es-cursos/challenge1-data-science/refs/heads/main/base-de-dados-challenge-1/loja_2.csv\"\n",
        "url3 = \"https://raw.githubusercontent.com/alura-es-cursos/challenge1-data-science/refs/heads/main/base-de-dados-challenge-1/loja_3.csv\"\n",
        "url4 = \"https://raw.githubusercontent.com/alura-es-cursos/challenge1-data-science/refs/heads/main/base-de-dados-challenge-1/loja_4.csv\"\n",
        "\n",
        "loja = pd.read_csv(url)\n",
        "loja2 = pd.read_csv(url2)\n",
        "loja3 = pd.read_csv(url3)\n",
        "loja4 = pd.read_csv(url4)\n",
        "\n",
        "loja.head()"
      ]
    },
    {
      "cell_type": "markdown",
      "source": [
        "##**Loja 1**"
      ],
      "metadata": {
        "id": "Jqu4KS-dwWV5"
      }
    },
    {
      "cell_type": "markdown",
      "source": [
        "###Visualização de Dados"
      ],
      "metadata": {
        "id": "IJ-4SWrMyXYz"
      }
    },
    {
      "cell_type": "code",
      "source": [
        "loja.head()"
      ],
      "metadata": {
        "colab": {
          "base_uri": "https://localhost:8080/",
          "height": 0
        },
        "id": "9rAoU04Xyak9",
        "outputId": "5e1ab014-fbf5-447e-ad52-61e857914461"
      },
      "execution_count": 270,
      "outputs": [
        {
          "output_type": "execute_result",
          "data": {
            "text/plain": [
              "                 Produto Categoria do Produto    Preço      Frete  \\\n",
              "0     Assistente virtual          eletronicos   219.08   9.249790   \n",
              "1         Mesa de jantar               moveis   256.35  11.234305   \n",
              "2      Jogo de tabuleiro           brinquedos   279.51  21.262681   \n",
              "3            Micro-ondas     eletrodomesticos  1009.99  54.667344   \n",
              "4  Cadeira de escritório               moveis   446.99  26.964689   \n",
              "\n",
              "  Data da Compra        Vendedor Local da compra  Avaliação da compra  \\\n",
              "0     16/01/2021     Pedro Gomes              SP                    4   \n",
              "1     18/05/2022  Beatriz Moraes              RJ                    1   \n",
              "2     15/03/2021      João Souza              DF                    1   \n",
              "3     03/05/2022      João Souza              RS                    4   \n",
              "4     07/11/2020   Larissa Alves              MG                    5   \n",
              "\n",
              "  Tipo de pagamento  Quantidade de parcelas    lat    lon  \n",
              "0    cartao_credito                       8 -22.19 -48.79  \n",
              "1    cartao_credito                       4 -22.25 -42.66  \n",
              "2    cartao_credito                       1 -15.83 -47.86  \n",
              "3            boleto                       1 -30.17 -53.50  \n",
              "4            boleto                       1 -18.10 -44.38  "
            ],
            "text/html": [
              "\n",
              "  <div id=\"df-aa133203-bb3d-432f-a56d-512594e542cf\" class=\"colab-df-container\">\n",
              "    <div>\n",
              "<style scoped>\n",
              "    .dataframe tbody tr th:only-of-type {\n",
              "        vertical-align: middle;\n",
              "    }\n",
              "\n",
              "    .dataframe tbody tr th {\n",
              "        vertical-align: top;\n",
              "    }\n",
              "\n",
              "    .dataframe thead th {\n",
              "        text-align: right;\n",
              "    }\n",
              "</style>\n",
              "<table border=\"1\" class=\"dataframe\">\n",
              "  <thead>\n",
              "    <tr style=\"text-align: right;\">\n",
              "      <th></th>\n",
              "      <th>Produto</th>\n",
              "      <th>Categoria do Produto</th>\n",
              "      <th>Preço</th>\n",
              "      <th>Frete</th>\n",
              "      <th>Data da Compra</th>\n",
              "      <th>Vendedor</th>\n",
              "      <th>Local da compra</th>\n",
              "      <th>Avaliação da compra</th>\n",
              "      <th>Tipo de pagamento</th>\n",
              "      <th>Quantidade de parcelas</th>\n",
              "      <th>lat</th>\n",
              "      <th>lon</th>\n",
              "    </tr>\n",
              "  </thead>\n",
              "  <tbody>\n",
              "    <tr>\n",
              "      <th>0</th>\n",
              "      <td>Assistente virtual</td>\n",
              "      <td>eletronicos</td>\n",
              "      <td>219.08</td>\n",
              "      <td>9.249790</td>\n",
              "      <td>16/01/2021</td>\n",
              "      <td>Pedro Gomes</td>\n",
              "      <td>SP</td>\n",
              "      <td>4</td>\n",
              "      <td>cartao_credito</td>\n",
              "      <td>8</td>\n",
              "      <td>-22.19</td>\n",
              "      <td>-48.79</td>\n",
              "    </tr>\n",
              "    <tr>\n",
              "      <th>1</th>\n",
              "      <td>Mesa de jantar</td>\n",
              "      <td>moveis</td>\n",
              "      <td>256.35</td>\n",
              "      <td>11.234305</td>\n",
              "      <td>18/05/2022</td>\n",
              "      <td>Beatriz Moraes</td>\n",
              "      <td>RJ</td>\n",
              "      <td>1</td>\n",
              "      <td>cartao_credito</td>\n",
              "      <td>4</td>\n",
              "      <td>-22.25</td>\n",
              "      <td>-42.66</td>\n",
              "    </tr>\n",
              "    <tr>\n",
              "      <th>2</th>\n",
              "      <td>Jogo de tabuleiro</td>\n",
              "      <td>brinquedos</td>\n",
              "      <td>279.51</td>\n",
              "      <td>21.262681</td>\n",
              "      <td>15/03/2021</td>\n",
              "      <td>João Souza</td>\n",
              "      <td>DF</td>\n",
              "      <td>1</td>\n",
              "      <td>cartao_credito</td>\n",
              "      <td>1</td>\n",
              "      <td>-15.83</td>\n",
              "      <td>-47.86</td>\n",
              "    </tr>\n",
              "    <tr>\n",
              "      <th>3</th>\n",
              "      <td>Micro-ondas</td>\n",
              "      <td>eletrodomesticos</td>\n",
              "      <td>1009.99</td>\n",
              "      <td>54.667344</td>\n",
              "      <td>03/05/2022</td>\n",
              "      <td>João Souza</td>\n",
              "      <td>RS</td>\n",
              "      <td>4</td>\n",
              "      <td>boleto</td>\n",
              "      <td>1</td>\n",
              "      <td>-30.17</td>\n",
              "      <td>-53.50</td>\n",
              "    </tr>\n",
              "    <tr>\n",
              "      <th>4</th>\n",
              "      <td>Cadeira de escritório</td>\n",
              "      <td>moveis</td>\n",
              "      <td>446.99</td>\n",
              "      <td>26.964689</td>\n",
              "      <td>07/11/2020</td>\n",
              "      <td>Larissa Alves</td>\n",
              "      <td>MG</td>\n",
              "      <td>5</td>\n",
              "      <td>boleto</td>\n",
              "      <td>1</td>\n",
              "      <td>-18.10</td>\n",
              "      <td>-44.38</td>\n",
              "    </tr>\n",
              "  </tbody>\n",
              "</table>\n",
              "</div>\n",
              "    <div class=\"colab-df-buttons\">\n",
              "\n",
              "  <div class=\"colab-df-container\">\n",
              "    <button class=\"colab-df-convert\" onclick=\"convertToInteractive('df-aa133203-bb3d-432f-a56d-512594e542cf')\"\n",
              "            title=\"Convert this dataframe to an interactive table.\"\n",
              "            style=\"display:none;\">\n",
              "\n",
              "  <svg xmlns=\"http://www.w3.org/2000/svg\" height=\"24px\" viewBox=\"0 -960 960 960\">\n",
              "    <path d=\"M120-120v-720h720v720H120Zm60-500h600v-160H180v160Zm220 220h160v-160H400v160Zm0 220h160v-160H400v160ZM180-400h160v-160H180v160Zm440 0h160v-160H620v160ZM180-180h160v-160H180v160Zm440 0h160v-160H620v160Z\"/>\n",
              "  </svg>\n",
              "    </button>\n",
              "\n",
              "  <style>\n",
              "    .colab-df-container {\n",
              "      display:flex;\n",
              "      gap: 12px;\n",
              "    }\n",
              "\n",
              "    .colab-df-convert {\n",
              "      background-color: #E8F0FE;\n",
              "      border: none;\n",
              "      border-radius: 50%;\n",
              "      cursor: pointer;\n",
              "      display: none;\n",
              "      fill: #1967D2;\n",
              "      height: 32px;\n",
              "      padding: 0 0 0 0;\n",
              "      width: 32px;\n",
              "    }\n",
              "\n",
              "    .colab-df-convert:hover {\n",
              "      background-color: #E2EBFA;\n",
              "      box-shadow: 0px 1px 2px rgba(60, 64, 67, 0.3), 0px 1px 3px 1px rgba(60, 64, 67, 0.15);\n",
              "      fill: #174EA6;\n",
              "    }\n",
              "\n",
              "    .colab-df-buttons div {\n",
              "      margin-bottom: 4px;\n",
              "    }\n",
              "\n",
              "    [theme=dark] .colab-df-convert {\n",
              "      background-color: #3B4455;\n",
              "      fill: #D2E3FC;\n",
              "    }\n",
              "\n",
              "    [theme=dark] .colab-df-convert:hover {\n",
              "      background-color: #434B5C;\n",
              "      box-shadow: 0px 1px 3px 1px rgba(0, 0, 0, 0.15);\n",
              "      filter: drop-shadow(0px 1px 2px rgba(0, 0, 0, 0.3));\n",
              "      fill: #FFFFFF;\n",
              "    }\n",
              "  </style>\n",
              "\n",
              "    <script>\n",
              "      const buttonEl =\n",
              "        document.querySelector('#df-aa133203-bb3d-432f-a56d-512594e542cf button.colab-df-convert');\n",
              "      buttonEl.style.display =\n",
              "        google.colab.kernel.accessAllowed ? 'block' : 'none';\n",
              "\n",
              "      async function convertToInteractive(key) {\n",
              "        const element = document.querySelector('#df-aa133203-bb3d-432f-a56d-512594e542cf');\n",
              "        const dataTable =\n",
              "          await google.colab.kernel.invokeFunction('convertToInteractive',\n",
              "                                                    [key], {});\n",
              "        if (!dataTable) return;\n",
              "\n",
              "        const docLinkHtml = 'Like what you see? Visit the ' +\n",
              "          '<a target=\"_blank\" href=https://colab.research.google.com/notebooks/data_table.ipynb>data table notebook</a>'\n",
              "          + ' to learn more about interactive tables.';\n",
              "        element.innerHTML = '';\n",
              "        dataTable['output_type'] = 'display_data';\n",
              "        await google.colab.output.renderOutput(dataTable, element);\n",
              "        const docLink = document.createElement('div');\n",
              "        docLink.innerHTML = docLinkHtml;\n",
              "        element.appendChild(docLink);\n",
              "      }\n",
              "    </script>\n",
              "  </div>\n",
              "\n",
              "\n",
              "<div id=\"df-75a62d03-df55-4143-a1c6-b4a353e871e7\">\n",
              "  <button class=\"colab-df-quickchart\" onclick=\"quickchart('df-75a62d03-df55-4143-a1c6-b4a353e871e7')\"\n",
              "            title=\"Suggest charts\"\n",
              "            style=\"display:none;\">\n",
              "\n",
              "<svg xmlns=\"http://www.w3.org/2000/svg\" height=\"24px\"viewBox=\"0 0 24 24\"\n",
              "     width=\"24px\">\n",
              "    <g>\n",
              "        <path d=\"M19 3H5c-1.1 0-2 .9-2 2v14c0 1.1.9 2 2 2h14c1.1 0 2-.9 2-2V5c0-1.1-.9-2-2-2zM9 17H7v-7h2v7zm4 0h-2V7h2v10zm4 0h-2v-4h2v4z\"/>\n",
              "    </g>\n",
              "</svg>\n",
              "  </button>\n",
              "\n",
              "<style>\n",
              "  .colab-df-quickchart {\n",
              "      --bg-color: #E8F0FE;\n",
              "      --fill-color: #1967D2;\n",
              "      --hover-bg-color: #E2EBFA;\n",
              "      --hover-fill-color: #174EA6;\n",
              "      --disabled-fill-color: #AAA;\n",
              "      --disabled-bg-color: #DDD;\n",
              "  }\n",
              "\n",
              "  [theme=dark] .colab-df-quickchart {\n",
              "      --bg-color: #3B4455;\n",
              "      --fill-color: #D2E3FC;\n",
              "      --hover-bg-color: #434B5C;\n",
              "      --hover-fill-color: #FFFFFF;\n",
              "      --disabled-bg-color: #3B4455;\n",
              "      --disabled-fill-color: #666;\n",
              "  }\n",
              "\n",
              "  .colab-df-quickchart {\n",
              "    background-color: var(--bg-color);\n",
              "    border: none;\n",
              "    border-radius: 50%;\n",
              "    cursor: pointer;\n",
              "    display: none;\n",
              "    fill: var(--fill-color);\n",
              "    height: 32px;\n",
              "    padding: 0;\n",
              "    width: 32px;\n",
              "  }\n",
              "\n",
              "  .colab-df-quickchart:hover {\n",
              "    background-color: var(--hover-bg-color);\n",
              "    box-shadow: 0 1px 2px rgba(60, 64, 67, 0.3), 0 1px 3px 1px rgba(60, 64, 67, 0.15);\n",
              "    fill: var(--button-hover-fill-color);\n",
              "  }\n",
              "\n",
              "  .colab-df-quickchart-complete:disabled,\n",
              "  .colab-df-quickchart-complete:disabled:hover {\n",
              "    background-color: var(--disabled-bg-color);\n",
              "    fill: var(--disabled-fill-color);\n",
              "    box-shadow: none;\n",
              "  }\n",
              "\n",
              "  .colab-df-spinner {\n",
              "    border: 2px solid var(--fill-color);\n",
              "    border-color: transparent;\n",
              "    border-bottom-color: var(--fill-color);\n",
              "    animation:\n",
              "      spin 1s steps(1) infinite;\n",
              "  }\n",
              "\n",
              "  @keyframes spin {\n",
              "    0% {\n",
              "      border-color: transparent;\n",
              "      border-bottom-color: var(--fill-color);\n",
              "      border-left-color: var(--fill-color);\n",
              "    }\n",
              "    20% {\n",
              "      border-color: transparent;\n",
              "      border-left-color: var(--fill-color);\n",
              "      border-top-color: var(--fill-color);\n",
              "    }\n",
              "    30% {\n",
              "      border-color: transparent;\n",
              "      border-left-color: var(--fill-color);\n",
              "      border-top-color: var(--fill-color);\n",
              "      border-right-color: var(--fill-color);\n",
              "    }\n",
              "    40% {\n",
              "      border-color: transparent;\n",
              "      border-right-color: var(--fill-color);\n",
              "      border-top-color: var(--fill-color);\n",
              "    }\n",
              "    60% {\n",
              "      border-color: transparent;\n",
              "      border-right-color: var(--fill-color);\n",
              "    }\n",
              "    80% {\n",
              "      border-color: transparent;\n",
              "      border-right-color: var(--fill-color);\n",
              "      border-bottom-color: var(--fill-color);\n",
              "    }\n",
              "    90% {\n",
              "      border-color: transparent;\n",
              "      border-bottom-color: var(--fill-color);\n",
              "    }\n",
              "  }\n",
              "</style>\n",
              "\n",
              "  <script>\n",
              "    async function quickchart(key) {\n",
              "      const quickchartButtonEl =\n",
              "        document.querySelector('#' + key + ' button');\n",
              "      quickchartButtonEl.disabled = true;  // To prevent multiple clicks.\n",
              "      quickchartButtonEl.classList.add('colab-df-spinner');\n",
              "      try {\n",
              "        const charts = await google.colab.kernel.invokeFunction(\n",
              "            'suggestCharts', [key], {});\n",
              "      } catch (error) {\n",
              "        console.error('Error during call to suggestCharts:', error);\n",
              "      }\n",
              "      quickchartButtonEl.classList.remove('colab-df-spinner');\n",
              "      quickchartButtonEl.classList.add('colab-df-quickchart-complete');\n",
              "    }\n",
              "    (() => {\n",
              "      let quickchartButtonEl =\n",
              "        document.querySelector('#df-75a62d03-df55-4143-a1c6-b4a353e871e7 button');\n",
              "      quickchartButtonEl.style.display =\n",
              "        google.colab.kernel.accessAllowed ? 'block' : 'none';\n",
              "    })();\n",
              "  </script>\n",
              "</div>\n",
              "\n",
              "    </div>\n",
              "  </div>\n"
            ],
            "application/vnd.google.colaboratory.intrinsic+json": {
              "type": "dataframe",
              "variable_name": "loja",
              "summary": "{\n  \"name\": \"loja\",\n  \"rows\": 2359,\n  \"fields\": [\n    {\n      \"column\": \"Produto\",\n      \"properties\": {\n        \"dtype\": \"category\",\n        \"num_unique_values\": 51,\n        \"samples\": [\n          \"Viol\\u00e3o\",\n          \"Bola de basquete\",\n          \"Smartwatch\"\n        ],\n        \"semantic_type\": \"\",\n        \"description\": \"\"\n      }\n    },\n    {\n      \"column\": \"Categoria do Produto\",\n      \"properties\": {\n        \"dtype\": \"category\",\n        \"num_unique_values\": 8,\n        \"samples\": [\n          \"moveis\",\n          \"esporte e lazer\",\n          \"eletronicos\"\n        ],\n        \"semantic_type\": \"\",\n        \"description\": \"\"\n      }\n    },\n    {\n      \"column\": \"Pre\\u00e7o\",\n      \"properties\": {\n        \"dtype\": \"number\",\n        \"std\": 819.5827782539145,\n        \"min\": 10.07,\n        \"max\": 3969.38,\n        \"num_unique_values\": 2315,\n        \"samples\": [\n          446.11,\n          107.31,\n          65.86\n        ],\n        \"semantic_type\": \"\",\n        \"description\": \"\"\n      }\n    },\n    {\n      \"column\": \"Frete\",\n      \"properties\": {\n        \"dtype\": \"number\",\n        \"std\": 43.814183327408166,\n        \"min\": 0.0,\n        \"max\": 214.3770604781,\n        \"num_unique_values\": 2149,\n        \"samples\": [\n          83.815279607,\n          16.069664669,\n          14.0344876928\n        ],\n        \"semantic_type\": \"\",\n        \"description\": \"\"\n      }\n    },\n    {\n      \"column\": \"Data da Compra\",\n      \"properties\": {\n        \"dtype\": \"object\",\n        \"num_unique_values\": 1018,\n        \"samples\": [\n          \"15/09/2022\",\n          \"03/06/2020\",\n          \"06/11/2021\"\n        ],\n        \"semantic_type\": \"\",\n        \"description\": \"\"\n      }\n    },\n    {\n      \"column\": \"Vendedor\",\n      \"properties\": {\n        \"dtype\": \"category\",\n        \"num_unique_values\": 14,\n        \"samples\": [\n          \"Juliana Costa\",\n          \"Mariana Ferreira\",\n          \"Pedro Gomes\"\n        ],\n        \"semantic_type\": \"\",\n        \"description\": \"\"\n      }\n    },\n    {\n      \"column\": \"Local da compra\",\n      \"properties\": {\n        \"dtype\": \"category\",\n        \"num_unique_values\": 26,\n        \"samples\": [\n          \"TO\",\n          \"RN\",\n          \"SP\"\n        ],\n        \"semantic_type\": \"\",\n        \"description\": \"\"\n      }\n    },\n    {\n      \"column\": \"Avalia\\u00e7\\u00e3o da compra\",\n      \"properties\": {\n        \"dtype\": \"number\",\n        \"std\": 1,\n        \"min\": 1,\n        \"max\": 5,\n        \"num_unique_values\": 5,\n        \"samples\": [\n          1,\n          2,\n          5\n        ],\n        \"semantic_type\": \"\",\n        \"description\": \"\"\n      }\n    },\n    {\n      \"column\": \"Tipo de pagamento\",\n      \"properties\": {\n        \"dtype\": \"category\",\n        \"num_unique_values\": 4,\n        \"samples\": [\n          \"boleto\",\n          \"cartao_debito\",\n          \"cartao_credito\"\n        ],\n        \"semantic_type\": \"\",\n        \"description\": \"\"\n      }\n    },\n    {\n      \"column\": \"Quantidade de parcelas\",\n      \"properties\": {\n        \"dtype\": \"number\",\n        \"std\": 2,\n        \"min\": 1,\n        \"max\": 24,\n        \"num_unique_values\": 15,\n        \"samples\": [\n          7,\n          14,\n          8\n        ],\n        \"semantic_type\": \"\",\n        \"description\": \"\"\n      }\n    },\n    {\n      \"column\": \"lat\",\n      \"properties\": {\n        \"dtype\": \"number\",\n        \"std\": 5.372399916530833,\n        \"min\": -30.17,\n        \"max\": 1.41,\n        \"num_unique_values\": 26,\n        \"samples\": [\n          -9.46,\n          -5.81,\n          -22.19\n        ],\n        \"semantic_type\": \"\",\n        \"description\": \"\"\n      }\n    },\n    {\n      \"column\": \"lon\",\n      \"properties\": {\n        \"dtype\": \"number\",\n        \"std\": 4.183180020544179,\n        \"min\": -70.55,\n        \"max\": -36.59,\n        \"num_unique_values\": 26,\n        \"samples\": [\n          -48.26,\n          -36.59,\n          -48.79\n        ],\n        \"semantic_type\": \"\",\n        \"description\": \"\"\n      }\n    }\n  ]\n}"
            }
          },
          "metadata": {},
          "execution_count": 270
        }
      ]
    },
    {
      "cell_type": "markdown",
      "source": [
        "###Estatísticas Básicas"
      ],
      "metadata": {
        "id": "eCW6Ktvhyf0N"
      }
    },
    {
      "cell_type": "code",
      "source": [
        "# Estatísticas básicas\n",
        "print()\n",
        "print(\"Estatísticas básicas:\")\n",
        "print(loja.describe())\n",
        "print()\n",
        "print(\"=\" * 50)\n",
        "\n",
        "# Colunas e tipos de dados\n",
        "print()\n",
        "print(\"Informações sobre o DataFrame:\")\n",
        "print(loja.info())\n",
        "print()\n",
        "print(\"=\" * 50)\n",
        "\n",
        "\n",
        "# Valores ausentes\n",
        "print()\n",
        "print(\"Verificação de valores ausentes:\")\n",
        "print(loja.isnull().sum())"
      ],
      "metadata": {
        "colab": {
          "base_uri": "https://localhost:8080/"
        },
        "id": "_2VZHA4AypcM",
        "outputId": "f63257b8-4c73-413c-b028-bfd1954df1d3"
      },
      "execution_count": 271,
      "outputs": [
        {
          "output_type": "stream",
          "name": "stdout",
          "text": [
            "\n",
            "Estatísticas básicas:\n",
            "             Preço        Frete  Avaliação da compra  Quantidade de parcelas  \\\n",
            "count  2359.000000  2359.000000          2359.000000             2359.000000   \n",
            "mean    650.491361    34.691805             3.976685                2.943196   \n",
            "std     819.582778    43.814183             1.415370                2.819897   \n",
            "min      10.070000     0.000000             1.000000                1.000000   \n",
            "25%      74.345000     4.141783             3.000000                1.000000   \n",
            "50%     313.750000    16.498835             5.000000                1.000000   \n",
            "75%     904.130000    48.050074             5.000000                4.000000   \n",
            "max    3969.380000   214.377060             5.000000               24.000000   \n",
            "\n",
            "               lat          lon  \n",
            "count  2359.000000  2359.000000  \n",
            "mean    -20.763366   -47.349385  \n",
            "std       5.372400     4.183180  \n",
            "min     -30.170000   -70.550000  \n",
            "25%     -22.250000   -48.790000  \n",
            "50%     -22.190000   -48.790000  \n",
            "75%     -18.100000   -44.380000  \n",
            "max       1.410000   -36.590000  \n",
            "\n",
            "==================================================\n",
            "\n",
            "Informações sobre o DataFrame:\n",
            "<class 'pandas.core.frame.DataFrame'>\n",
            "RangeIndex: 2359 entries, 0 to 2358\n",
            "Data columns (total 12 columns):\n",
            " #   Column                  Non-Null Count  Dtype  \n",
            "---  ------                  --------------  -----  \n",
            " 0   Produto                 2359 non-null   object \n",
            " 1   Categoria do Produto    2359 non-null   object \n",
            " 2   Preço                   2359 non-null   float64\n",
            " 3   Frete                   2359 non-null   float64\n",
            " 4   Data da Compra          2359 non-null   object \n",
            " 5   Vendedor                2359 non-null   object \n",
            " 6   Local da compra         2359 non-null   object \n",
            " 7   Avaliação da compra     2359 non-null   int64  \n",
            " 8   Tipo de pagamento       2359 non-null   object \n",
            " 9   Quantidade de parcelas  2359 non-null   int64  \n",
            " 10  lat                     2359 non-null   float64\n",
            " 11  lon                     2359 non-null   float64\n",
            "dtypes: float64(4), int64(2), object(6)\n",
            "memory usage: 221.3+ KB\n",
            "None\n",
            "\n",
            "==================================================\n",
            "\n",
            "Verificação de valores ausentes:\n",
            "Produto                   0\n",
            "Categoria do Produto      0\n",
            "Preço                     0\n",
            "Frete                     0\n",
            "Data da Compra            0\n",
            "Vendedor                  0\n",
            "Local da compra           0\n",
            "Avaliação da compra       0\n",
            "Tipo de pagamento         0\n",
            "Quantidade de parcelas    0\n",
            "lat                       0\n",
            "lon                       0\n",
            "dtype: int64\n"
          ]
        }
      ]
    },
    {
      "cell_type": "markdown",
      "source": [
        "###Faturamento Total"
      ],
      "metadata": {
        "id": "_KkbXKj9yxok"
      }
    },
    {
      "cell_type": "code",
      "source": [
        "loja[\"Faturamento\"] = loja[\"Preço\"]\n",
        "\n",
        "faturamento_total = loja[\"Faturamento\"].sum()\n",
        "print(f\"O faturamento total da Loja 1 é: R$ {round(faturamento_total, 2)}\")"
      ],
      "metadata": {
        "colab": {
          "base_uri": "https://localhost:8080/"
        },
        "outputId": "9485a84e-46a4-41d8-e640-d1794a0b45c2",
        "id": "HGuNjPZGwWV6"
      },
      "execution_count": 272,
      "outputs": [
        {
          "output_type": "stream",
          "name": "stdout",
          "text": [
            "O faturamento total da Loja 1 é: R$ 1534509.12\n"
          ]
        }
      ]
    },
    {
      "cell_type": "markdown",
      "source": [
        "### Vendas por Categoria\n"
      ],
      "metadata": {
        "id": "2V_vcAPzWZmR"
      }
    },
    {
      "cell_type": "code",
      "source": [
        "# Faturamento por categoria\n",
        "faturamento_categoria = loja.groupby(\"Categoria do Produto\")[\"Preço\"].sum().sort_values(ascending=False)\n",
        "print(\"Faturamento por categoria na Loja 1 (em R$):\\n\", faturamento_categoria.round(2))"
      ],
      "metadata": {
        "id": "yZR6cOjXYSk1",
        "colab": {
          "base_uri": "https://localhost:8080/"
        },
        "outputId": "dfd91c4a-2e3e-4790-b450-85e432bc4375"
      },
      "execution_count": 273,
      "outputs": [
        {
          "output_type": "stream",
          "name": "stdout",
          "text": [
            "Faturamento por categoria na Loja 1 (em R$):\n",
            " Categoria do Produto\n",
            "eletronicos              572659.23\n",
            "eletrodomesticos         484913.36\n",
            "moveis                   250178.11\n",
            "instrumentos musicais    121731.69\n",
            "esporte e lazer           52387.55\n",
            "brinquedos                23993.78\n",
            "utilidades domesticas     16931.48\n",
            "livros                    11713.92\n",
            "Name: Preço, dtype: float64\n"
          ]
        }
      ]
    },
    {
      "cell_type": "code",
      "source": [
        "# Proporção faturamento por categoria\n",
        "faturamento_total = loja[\"Preço\"].sum()\n",
        "print(\"\\nProporção do faturamento por categoria (%):\\n\", (faturamento_categoria / faturamento_total * 100).round(2))"
      ],
      "metadata": {
        "colab": {
          "base_uri": "https://localhost:8080/"
        },
        "id": "3E_2hyBvyx_R",
        "outputId": "aa93b666-3ce0-4c10-8e60-5e3b1bdd8909"
      },
      "execution_count": 274,
      "outputs": [
        {
          "output_type": "stream",
          "name": "stdout",
          "text": [
            "\n",
            "Proporção do faturamento por categoria (%):\n",
            " Categoria do Produto\n",
            "eletronicos              37.32\n",
            "eletrodomesticos         31.60\n",
            "moveis                   16.30\n",
            "instrumentos musicais     7.93\n",
            "esporte e lazer           3.41\n",
            "brinquedos                1.56\n",
            "utilidades domesticas     1.10\n",
            "livros                    0.76\n",
            "Name: Preço, dtype: float64\n"
          ]
        }
      ]
    },
    {
      "cell_type": "code",
      "source": [
        "# Calcular itens vendidos por catetoria (Loja 1)\n",
        "categorias = loja[\"Categoria do Produto\"].value_counts()\n",
        "print(\"Categorias mais vendidas:\\n\", categorias)"
      ],
      "metadata": {
        "id": "A34YupIuYhfF",
        "colab": {
          "base_uri": "https://localhost:8080/"
        },
        "outputId": "10e46db3-0c66-47a8-8be0-ec41e6a966d6"
      },
      "execution_count": 275,
      "outputs": [
        {
          "output_type": "stream",
          "name": "stdout",
          "text": [
            "Categorias mais vendidas:\n",
            " Categoria do Produto\n",
            "moveis                   465\n",
            "eletronicos              448\n",
            "brinquedos               324\n",
            "eletrodomesticos         312\n",
            "esporte e lazer          284\n",
            "instrumentos musicais    182\n",
            "livros                   173\n",
            "utilidades domesticas    171\n",
            "Name: count, dtype: int64\n"
          ]
        }
      ]
    },
    {
      "cell_type": "markdown",
      "source": [
        "### Avaliação das Lojas"
      ],
      "metadata": {
        "id": "Rq6tU_xSY3jk"
      }
    },
    {
      "cell_type": "code",
      "source": [
        "# Avaliações\n",
        "\n",
        "avaliacoes = loja[\"Avaliação da compra\"].value_counts().sort_index()\n",
        "print(\"Distribuição das avaliações na Loja 1:\\n\", avaliacoes)"
      ],
      "metadata": {
        "id": "bh3jjjJwY5MU",
        "colab": {
          "base_uri": "https://localhost:8080/"
        },
        "outputId": "b70cfd0d-0fce-40eb-8806-282fbc246f45"
      },
      "execution_count": 276,
      "outputs": [
        {
          "output_type": "stream",
          "name": "stdout",
          "text": [
            "Distribuição das avaliações na Loja 1:\n",
            " Avaliação da compra\n",
            "1     319\n",
            "2      86\n",
            "3     218\n",
            "4     444\n",
            "5    1292\n",
            "Name: count, dtype: int64\n"
          ]
        }
      ]
    },
    {
      "cell_type": "markdown",
      "source": [
        "### Produtos Mais e Menos Vendidos"
      ],
      "metadata": {
        "id": "DmNp1KPBZCm-"
      }
    },
    {
      "cell_type": "code",
      "source": [
        "# Proutos mais vendidos (Loja 1)\n",
        "produtos_mais = loja[\"Produto\"].value_counts()\n",
        "print(\"Produtos mais vendidos na Loja 1:\\n\", produtos_mais.head(10))\n",
        "print()\n",
        "print(\"=\" * 50)\n",
        "\n",
        "# Proutos menos vendidos (Loja 1)\n",
        "print()\n",
        "produtos_menos = loja[\"Produto\"].value_counts().sort_values(ascending=True)\n",
        "print(\"Produtos menos vendidos na Loja 1:\\n\", produtos_menos.head(10))\n"
      ],
      "metadata": {
        "colab": {
          "base_uri": "https://localhost:8080/"
        },
        "id": "SLq_2fsXuGf9",
        "outputId": "4fba51e6-4184-429b-cc3a-b61e2920cd8b"
      },
      "execution_count": 277,
      "outputs": [
        {
          "output_type": "stream",
          "name": "stdout",
          "text": [
            "Produtos mais vendidos na Loja 1:\n",
            " Produto\n",
            "Micro-ondas           60\n",
            "TV Led UHD 4K         60\n",
            "Guarda roupas         60\n",
            "Secadora de roupas    58\n",
            "Cômoda                56\n",
            "Blocos de montar      56\n",
            "Bola de basquete      55\n",
            "Bicicleta             54\n",
            "Copo térmico          54\n",
            "Geladeira             54\n",
            "Name: count, dtype: int64\n",
            "\n",
            "==================================================\n",
            "\n",
            "Produtos menos vendidos na Loja 1:\n",
            " Produto\n",
            "Headset                        33\n",
            "Celular ABXY                   33\n",
            "Panela de pressão              35\n",
            "Pandeiro                       36\n",
            "Mochila                        39\n",
            "Ciência de dados com python    39\n",
            "Corda de pular                 40\n",
            "Assistente virtual             40\n",
            "Boneca bebê                    40\n",
            "Dinossauro Rex                 40\n",
            "Name: count, dtype: int64\n"
          ]
        }
      ]
    },
    {
      "cell_type": "markdown",
      "source": [
        "### Análise de fretes\n"
      ],
      "metadata": {
        "id": "Fl0cGi3bZKqU"
      }
    },
    {
      "cell_type": "code",
      "source": [
        "# Análise de fretes\n",
        "\n",
        "fretes_altos = loja[loja[\"Frete\"] > 100][[\"Produto\", \"Preço\", \"Frete\", \"Avaliação da compra\"]]\n",
        "print(\"Vendas com fretes acima de R$ 100:\\n\", fretes_altos)"
      ],
      "metadata": {
        "id": "S2JeaCykZNy9",
        "colab": {
          "base_uri": "https://localhost:8080/"
        },
        "outputId": "c1f972e1-2fec-4f0a-d058-66ff17d7a0b2"
      },
      "execution_count": 278,
      "outputs": [
        {
          "output_type": "stream",
          "name": "stdout",
          "text": [
            "Vendas com fretes acima de R$ 100:\n",
            "                  Produto    Preço       Frete  Avaliação da compra\n",
            "8     Lavadora de roupas  2024.31  105.372857                    1\n",
            "10             Geladeira  3241.75  170.197874                    5\n",
            "11           Lava louças  1889.50  100.898967                    5\n",
            "18         TV Led UHD 4K  2522.26  143.883701                    3\n",
            "65      Celular Plus X42  3367.25  179.982945                    4\n",
            "...                  ...      ...         ...                  ...\n",
            "2315       TV Led UHD 4K  3527.40  185.407877                    5\n",
            "2317           Geladeira  3081.76  161.678888                    5\n",
            "2318       TV Led UHD 4K  2131.82  114.200014                    5\n",
            "2327  Lavadora de roupas  1912.38  102.359586                    4\n",
            "2331           Geladeira  3190.23  167.454589                    5\n",
            "\n",
            "[239 rows x 4 columns]\n"
          ]
        }
      ]
    },
    {
      "cell_type": "code",
      "source": [
        "# Frete médio por categoria\n",
        "frete_por_categoria = loja.groupby(\"Categoria do Produto\")[\"Frete\"].mean().sort_values(ascending=False)\n",
        "print(\"Frete médio por categoria (Loja 1):\\n\")\n",
        "print(frete_por_categoria.round(2))\n"
      ],
      "metadata": {
        "colab": {
          "base_uri": "https://localhost:8080/"
        },
        "id": "lladPt_L2LXT",
        "outputId": "887f6294-cfc8-465a-f837-f8a4a8712edc"
      },
      "execution_count": 279,
      "outputs": [
        {
          "output_type": "stream",
          "name": "stdout",
          "text": [
            "Frete médio por categoria (Loja 1):\n",
            "\n",
            "Categoria do Produto\n",
            "eletrodomesticos         82.58\n",
            "eletronicos              68.35\n",
            "instrumentos musicais    35.78\n",
            "moveis                   28.66\n",
            "esporte e lazer           9.96\n",
            "utilidades domesticas     5.02\n",
            "brinquedos                4.03\n",
            "livros                    3.60\n",
            "Name: Frete, dtype: float64\n"
          ]
        }
      ]
    },
    {
      "cell_type": "code",
      "source": [
        "# Frete médio por produto\n",
        "frete_por_produto = loja.groupby(\"Produto\")[\"Frete\"].mean().sort_values(ascending=False)\n",
        "print(\"Frete médio por produto (Loja 1):\\n\")\n",
        "print(frete_por_produto.head(10).round(2))\n"
      ],
      "metadata": {
        "colab": {
          "base_uri": "https://localhost:8080/"
        },
        "id": "qvh9HC6h2Qtq",
        "outputId": "6eba73a5-391c-4b3a-ddb7-25291d7aed65"
      },
      "execution_count": 280,
      "outputs": [
        {
          "output_type": "stream",
          "name": "stdout",
          "text": [
            "Frete médio por produto (Loja 1):\n",
            "\n",
            "Produto\n",
            "TV Led UHD 4K         168.69\n",
            "Geladeira             147.70\n",
            "Celular Plus X42      142.55\n",
            "Smart TV              109.24\n",
            "Lavadora de roupas     98.76\n",
            "Lava louças            91.77\n",
            "Tablet ABXY            81.07\n",
            "Secadora de roupas     72.51\n",
            "Celular ABXY           70.61\n",
            "Guitarra               56.71\n",
            "Name: Frete, dtype: float64\n"
          ]
        }
      ]
    },
    {
      "cell_type": "markdown",
      "source": [],
      "metadata": {
        "id": "e4wqkvSZGzpd"
      }
    },
    {
      "cell_type": "markdown",
      "source": [
        "##**Loja 2**"
      ],
      "metadata": {
        "id": "TqYFCvqb2z_6"
      }
    },
    {
      "cell_type": "markdown",
      "source": [
        "###Visualização de Dados"
      ],
      "metadata": {
        "id": "njevRylv2z_7"
      }
    },
    {
      "cell_type": "code",
      "source": [
        "loja2.head()"
      ],
      "metadata": {
        "colab": {
          "base_uri": "https://localhost:8080/",
          "height": 293
        },
        "outputId": "f49b16c1-4c8e-4bdf-8899-8f20ecc561c1",
        "id": "kcP_U9Cg2z_7"
      },
      "execution_count": 281,
      "outputs": [
        {
          "output_type": "execute_result",
          "data": {
            "text/plain": [
              "                 Produto   Categoria do Produto    Preço      Frete  \\\n",
              "0  Cadeira de escritório                 moveis   378.20  20.421138   \n",
              "1               Pandeiro  instrumentos musicais   102.37   3.035334   \n",
              "2              Cama king                 moveis   591.13  31.759020   \n",
              "3              Cama king                 moveis  1208.24  61.919584   \n",
              "4  Cadeira de escritório                 moveis   530.41  25.827176   \n",
              "\n",
              "  Data da Compra        Vendedor Local da compra  Avaliação da compra  \\\n",
              "0     04/08/2021    Thiago Silva              MG                    1   \n",
              "1     26/11/2020   Bianca Santos              RJ                    3   \n",
              "2     22/10/2021    Thiago Silva              SC                    5   \n",
              "3     04/05/2022   Larissa Alves              RS                    5   \n",
              "4     26/02/2022  Lucas Oliveira              SP                    4   \n",
              "\n",
              "  Tipo de pagamento  Quantidade de parcelas    lat    lon  \n",
              "0            boleto                       1 -18.10 -44.38  \n",
              "1    cartao_credito                       4 -22.25 -42.66  \n",
              "2    cartao_credito                      10 -27.45 -50.95  \n",
              "3    cartao_credito                      10 -30.17 -53.50  \n",
              "4    cartao_credito                       3 -22.19 -48.79  "
            ],
            "text/html": [
              "\n",
              "  <div id=\"df-c348df4e-f6fb-4245-b790-174319ffae58\" class=\"colab-df-container\">\n",
              "    <div>\n",
              "<style scoped>\n",
              "    .dataframe tbody tr th:only-of-type {\n",
              "        vertical-align: middle;\n",
              "    }\n",
              "\n",
              "    .dataframe tbody tr th {\n",
              "        vertical-align: top;\n",
              "    }\n",
              "\n",
              "    .dataframe thead th {\n",
              "        text-align: right;\n",
              "    }\n",
              "</style>\n",
              "<table border=\"1\" class=\"dataframe\">\n",
              "  <thead>\n",
              "    <tr style=\"text-align: right;\">\n",
              "      <th></th>\n",
              "      <th>Produto</th>\n",
              "      <th>Categoria do Produto</th>\n",
              "      <th>Preço</th>\n",
              "      <th>Frete</th>\n",
              "      <th>Data da Compra</th>\n",
              "      <th>Vendedor</th>\n",
              "      <th>Local da compra</th>\n",
              "      <th>Avaliação da compra</th>\n",
              "      <th>Tipo de pagamento</th>\n",
              "      <th>Quantidade de parcelas</th>\n",
              "      <th>lat</th>\n",
              "      <th>lon</th>\n",
              "    </tr>\n",
              "  </thead>\n",
              "  <tbody>\n",
              "    <tr>\n",
              "      <th>0</th>\n",
              "      <td>Cadeira de escritório</td>\n",
              "      <td>moveis</td>\n",
              "      <td>378.20</td>\n",
              "      <td>20.421138</td>\n",
              "      <td>04/08/2021</td>\n",
              "      <td>Thiago Silva</td>\n",
              "      <td>MG</td>\n",
              "      <td>1</td>\n",
              "      <td>boleto</td>\n",
              "      <td>1</td>\n",
              "      <td>-18.10</td>\n",
              "      <td>-44.38</td>\n",
              "    </tr>\n",
              "    <tr>\n",
              "      <th>1</th>\n",
              "      <td>Pandeiro</td>\n",
              "      <td>instrumentos musicais</td>\n",
              "      <td>102.37</td>\n",
              "      <td>3.035334</td>\n",
              "      <td>26/11/2020</td>\n",
              "      <td>Bianca Santos</td>\n",
              "      <td>RJ</td>\n",
              "      <td>3</td>\n",
              "      <td>cartao_credito</td>\n",
              "      <td>4</td>\n",
              "      <td>-22.25</td>\n",
              "      <td>-42.66</td>\n",
              "    </tr>\n",
              "    <tr>\n",
              "      <th>2</th>\n",
              "      <td>Cama king</td>\n",
              "      <td>moveis</td>\n",
              "      <td>591.13</td>\n",
              "      <td>31.759020</td>\n",
              "      <td>22/10/2021</td>\n",
              "      <td>Thiago Silva</td>\n",
              "      <td>SC</td>\n",
              "      <td>5</td>\n",
              "      <td>cartao_credito</td>\n",
              "      <td>10</td>\n",
              "      <td>-27.45</td>\n",
              "      <td>-50.95</td>\n",
              "    </tr>\n",
              "    <tr>\n",
              "      <th>3</th>\n",
              "      <td>Cama king</td>\n",
              "      <td>moveis</td>\n",
              "      <td>1208.24</td>\n",
              "      <td>61.919584</td>\n",
              "      <td>04/05/2022</td>\n",
              "      <td>Larissa Alves</td>\n",
              "      <td>RS</td>\n",
              "      <td>5</td>\n",
              "      <td>cartao_credito</td>\n",
              "      <td>10</td>\n",
              "      <td>-30.17</td>\n",
              "      <td>-53.50</td>\n",
              "    </tr>\n",
              "    <tr>\n",
              "      <th>4</th>\n",
              "      <td>Cadeira de escritório</td>\n",
              "      <td>moveis</td>\n",
              "      <td>530.41</td>\n",
              "      <td>25.827176</td>\n",
              "      <td>26/02/2022</td>\n",
              "      <td>Lucas Oliveira</td>\n",
              "      <td>SP</td>\n",
              "      <td>4</td>\n",
              "      <td>cartao_credito</td>\n",
              "      <td>3</td>\n",
              "      <td>-22.19</td>\n",
              "      <td>-48.79</td>\n",
              "    </tr>\n",
              "  </tbody>\n",
              "</table>\n",
              "</div>\n",
              "    <div class=\"colab-df-buttons\">\n",
              "\n",
              "  <div class=\"colab-df-container\">\n",
              "    <button class=\"colab-df-convert\" onclick=\"convertToInteractive('df-c348df4e-f6fb-4245-b790-174319ffae58')\"\n",
              "            title=\"Convert this dataframe to an interactive table.\"\n",
              "            style=\"display:none;\">\n",
              "\n",
              "  <svg xmlns=\"http://www.w3.org/2000/svg\" height=\"24px\" viewBox=\"0 -960 960 960\">\n",
              "    <path d=\"M120-120v-720h720v720H120Zm60-500h600v-160H180v160Zm220 220h160v-160H400v160Zm0 220h160v-160H400v160ZM180-400h160v-160H180v160Zm440 0h160v-160H620v160ZM180-180h160v-160H180v160Zm440 0h160v-160H620v160Z\"/>\n",
              "  </svg>\n",
              "    </button>\n",
              "\n",
              "  <style>\n",
              "    .colab-df-container {\n",
              "      display:flex;\n",
              "      gap: 12px;\n",
              "    }\n",
              "\n",
              "    .colab-df-convert {\n",
              "      background-color: #E8F0FE;\n",
              "      border: none;\n",
              "      border-radius: 50%;\n",
              "      cursor: pointer;\n",
              "      display: none;\n",
              "      fill: #1967D2;\n",
              "      height: 32px;\n",
              "      padding: 0 0 0 0;\n",
              "      width: 32px;\n",
              "    }\n",
              "\n",
              "    .colab-df-convert:hover {\n",
              "      background-color: #E2EBFA;\n",
              "      box-shadow: 0px 1px 2px rgba(60, 64, 67, 0.3), 0px 1px 3px 1px rgba(60, 64, 67, 0.15);\n",
              "      fill: #174EA6;\n",
              "    }\n",
              "\n",
              "    .colab-df-buttons div {\n",
              "      margin-bottom: 4px;\n",
              "    }\n",
              "\n",
              "    [theme=dark] .colab-df-convert {\n",
              "      background-color: #3B4455;\n",
              "      fill: #D2E3FC;\n",
              "    }\n",
              "\n",
              "    [theme=dark] .colab-df-convert:hover {\n",
              "      background-color: #434B5C;\n",
              "      box-shadow: 0px 1px 3px 1px rgba(0, 0, 0, 0.15);\n",
              "      filter: drop-shadow(0px 1px 2px rgba(0, 0, 0, 0.3));\n",
              "      fill: #FFFFFF;\n",
              "    }\n",
              "  </style>\n",
              "\n",
              "    <script>\n",
              "      const buttonEl =\n",
              "        document.querySelector('#df-c348df4e-f6fb-4245-b790-174319ffae58 button.colab-df-convert');\n",
              "      buttonEl.style.display =\n",
              "        google.colab.kernel.accessAllowed ? 'block' : 'none';\n",
              "\n",
              "      async function convertToInteractive(key) {\n",
              "        const element = document.querySelector('#df-c348df4e-f6fb-4245-b790-174319ffae58');\n",
              "        const dataTable =\n",
              "          await google.colab.kernel.invokeFunction('convertToInteractive',\n",
              "                                                    [key], {});\n",
              "        if (!dataTable) return;\n",
              "\n",
              "        const docLinkHtml = 'Like what you see? Visit the ' +\n",
              "          '<a target=\"_blank\" href=https://colab.research.google.com/notebooks/data_table.ipynb>data table notebook</a>'\n",
              "          + ' to learn more about interactive tables.';\n",
              "        element.innerHTML = '';\n",
              "        dataTable['output_type'] = 'display_data';\n",
              "        await google.colab.output.renderOutput(dataTable, element);\n",
              "        const docLink = document.createElement('div');\n",
              "        docLink.innerHTML = docLinkHtml;\n",
              "        element.appendChild(docLink);\n",
              "      }\n",
              "    </script>\n",
              "  </div>\n",
              "\n",
              "\n",
              "<div id=\"df-a9962022-c61e-4d05-80f1-2c3eddf75d46\">\n",
              "  <button class=\"colab-df-quickchart\" onclick=\"quickchart('df-a9962022-c61e-4d05-80f1-2c3eddf75d46')\"\n",
              "            title=\"Suggest charts\"\n",
              "            style=\"display:none;\">\n",
              "\n",
              "<svg xmlns=\"http://www.w3.org/2000/svg\" height=\"24px\"viewBox=\"0 0 24 24\"\n",
              "     width=\"24px\">\n",
              "    <g>\n",
              "        <path d=\"M19 3H5c-1.1 0-2 .9-2 2v14c0 1.1.9 2 2 2h14c1.1 0 2-.9 2-2V5c0-1.1-.9-2-2-2zM9 17H7v-7h2v7zm4 0h-2V7h2v10zm4 0h-2v-4h2v4z\"/>\n",
              "    </g>\n",
              "</svg>\n",
              "  </button>\n",
              "\n",
              "<style>\n",
              "  .colab-df-quickchart {\n",
              "      --bg-color: #E8F0FE;\n",
              "      --fill-color: #1967D2;\n",
              "      --hover-bg-color: #E2EBFA;\n",
              "      --hover-fill-color: #174EA6;\n",
              "      --disabled-fill-color: #AAA;\n",
              "      --disabled-bg-color: #DDD;\n",
              "  }\n",
              "\n",
              "  [theme=dark] .colab-df-quickchart {\n",
              "      --bg-color: #3B4455;\n",
              "      --fill-color: #D2E3FC;\n",
              "      --hover-bg-color: #434B5C;\n",
              "      --hover-fill-color: #FFFFFF;\n",
              "      --disabled-bg-color: #3B4455;\n",
              "      --disabled-fill-color: #666;\n",
              "  }\n",
              "\n",
              "  .colab-df-quickchart {\n",
              "    background-color: var(--bg-color);\n",
              "    border: none;\n",
              "    border-radius: 50%;\n",
              "    cursor: pointer;\n",
              "    display: none;\n",
              "    fill: var(--fill-color);\n",
              "    height: 32px;\n",
              "    padding: 0;\n",
              "    width: 32px;\n",
              "  }\n",
              "\n",
              "  .colab-df-quickchart:hover {\n",
              "    background-color: var(--hover-bg-color);\n",
              "    box-shadow: 0 1px 2px rgba(60, 64, 67, 0.3), 0 1px 3px 1px rgba(60, 64, 67, 0.15);\n",
              "    fill: var(--button-hover-fill-color);\n",
              "  }\n",
              "\n",
              "  .colab-df-quickchart-complete:disabled,\n",
              "  .colab-df-quickchart-complete:disabled:hover {\n",
              "    background-color: var(--disabled-bg-color);\n",
              "    fill: var(--disabled-fill-color);\n",
              "    box-shadow: none;\n",
              "  }\n",
              "\n",
              "  .colab-df-spinner {\n",
              "    border: 2px solid var(--fill-color);\n",
              "    border-color: transparent;\n",
              "    border-bottom-color: var(--fill-color);\n",
              "    animation:\n",
              "      spin 1s steps(1) infinite;\n",
              "  }\n",
              "\n",
              "  @keyframes spin {\n",
              "    0% {\n",
              "      border-color: transparent;\n",
              "      border-bottom-color: var(--fill-color);\n",
              "      border-left-color: var(--fill-color);\n",
              "    }\n",
              "    20% {\n",
              "      border-color: transparent;\n",
              "      border-left-color: var(--fill-color);\n",
              "      border-top-color: var(--fill-color);\n",
              "    }\n",
              "    30% {\n",
              "      border-color: transparent;\n",
              "      border-left-color: var(--fill-color);\n",
              "      border-top-color: var(--fill-color);\n",
              "      border-right-color: var(--fill-color);\n",
              "    }\n",
              "    40% {\n",
              "      border-color: transparent;\n",
              "      border-right-color: var(--fill-color);\n",
              "      border-top-color: var(--fill-color);\n",
              "    }\n",
              "    60% {\n",
              "      border-color: transparent;\n",
              "      border-right-color: var(--fill-color);\n",
              "    }\n",
              "    80% {\n",
              "      border-color: transparent;\n",
              "      border-right-color: var(--fill-color);\n",
              "      border-bottom-color: var(--fill-color);\n",
              "    }\n",
              "    90% {\n",
              "      border-color: transparent;\n",
              "      border-bottom-color: var(--fill-color);\n",
              "    }\n",
              "  }\n",
              "</style>\n",
              "\n",
              "  <script>\n",
              "    async function quickchart(key) {\n",
              "      const quickchartButtonEl =\n",
              "        document.querySelector('#' + key + ' button');\n",
              "      quickchartButtonEl.disabled = true;  // To prevent multiple clicks.\n",
              "      quickchartButtonEl.classList.add('colab-df-spinner');\n",
              "      try {\n",
              "        const charts = await google.colab.kernel.invokeFunction(\n",
              "            'suggestCharts', [key], {});\n",
              "      } catch (error) {\n",
              "        console.error('Error during call to suggestCharts:', error);\n",
              "      }\n",
              "      quickchartButtonEl.classList.remove('colab-df-spinner');\n",
              "      quickchartButtonEl.classList.add('colab-df-quickchart-complete');\n",
              "    }\n",
              "    (() => {\n",
              "      let quickchartButtonEl =\n",
              "        document.querySelector('#df-a9962022-c61e-4d05-80f1-2c3eddf75d46 button');\n",
              "      quickchartButtonEl.style.display =\n",
              "        google.colab.kernel.accessAllowed ? 'block' : 'none';\n",
              "    })();\n",
              "  </script>\n",
              "</div>\n",
              "\n",
              "    </div>\n",
              "  </div>\n"
            ],
            "application/vnd.google.colaboratory.intrinsic+json": {
              "type": "dataframe",
              "variable_name": "loja2",
              "summary": "{\n  \"name\": \"loja2\",\n  \"rows\": 2359,\n  \"fields\": [\n    {\n      \"column\": \"Produto\",\n      \"properties\": {\n        \"dtype\": \"category\",\n        \"num_unique_values\": 51,\n        \"samples\": [\n          \"Carrinho controle remoto\",\n          \"Bola de v\\u00f4lei\",\n          \"Smartwatch\"\n        ],\n        \"semantic_type\": \"\",\n        \"description\": \"\"\n      }\n    },\n    {\n      \"column\": \"Categoria do Produto\",\n      \"properties\": {\n        \"dtype\": \"category\",\n        \"num_unique_values\": 8,\n        \"samples\": [\n          \"instrumentos musicais\",\n          \"brinquedos\",\n          \"moveis\"\n        ],\n        \"semantic_type\": \"\",\n        \"description\": \"\"\n      }\n    },\n    {\n      \"column\": \"Pre\\u00e7o\",\n      \"properties\": {\n        \"dtype\": \"number\",\n        \"std\": 794.0789966263058,\n        \"min\": 10.16,\n        \"max\": 3937.85,\n        \"num_unique_values\": 2320,\n        \"samples\": [\n          98.61,\n          21.43,\n          84.52\n        ],\n        \"semantic_type\": \"\",\n        \"description\": \"\"\n      }\n    },\n    {\n      \"column\": \"Frete\",\n      \"properties\": {\n        \"dtype\": \"number\",\n        \"std\": 42.32193222889521,\n        \"min\": 0.0,\n        \"max\": 216.7076333964,\n        \"num_unique_values\": 2139,\n        \"samples\": [\n          65.7480428885,\n          8.572070016,\n          16.4739386434\n        ],\n        \"semantic_type\": \"\",\n        \"description\": \"\"\n      }\n    },\n    {\n      \"column\": \"Data da Compra\",\n      \"properties\": {\n        \"dtype\": \"category\",\n        \"num_unique_values\": 1025,\n        \"samples\": [\n          \"17/02/2021\",\n          \"16/03/2023\",\n          \"30/07/2020\"\n        ],\n        \"semantic_type\": \"\",\n        \"description\": \"\"\n      }\n    },\n    {\n      \"column\": \"Vendedor\",\n      \"properties\": {\n        \"dtype\": \"category\",\n        \"num_unique_values\": 14,\n        \"samples\": [\n          \"Felipe Santos\",\n          \"Bruno Rodrigues\",\n          \"Thiago Silva\"\n        ],\n        \"semantic_type\": \"\",\n        \"description\": \"\"\n      }\n    },\n    {\n      \"column\": \"Local da compra\",\n      \"properties\": {\n        \"dtype\": \"category\",\n        \"num_unique_values\": 26,\n        \"samples\": [\n          \"PA\",\n          \"RN\",\n          \"MG\"\n        ],\n        \"semantic_type\": \"\",\n        \"description\": \"\"\n      }\n    },\n    {\n      \"column\": \"Avalia\\u00e7\\u00e3o da compra\",\n      \"properties\": {\n        \"dtype\": \"number\",\n        \"std\": 1,\n        \"min\": 1,\n        \"max\": 5,\n        \"num_unique_values\": 5,\n        \"samples\": [\n          3,\n          2,\n          5\n        ],\n        \"semantic_type\": \"\",\n        \"description\": \"\"\n      }\n    },\n    {\n      \"column\": \"Tipo de pagamento\",\n      \"properties\": {\n        \"dtype\": \"category\",\n        \"num_unique_values\": 4,\n        \"samples\": [\n          \"cartao_credito\",\n          \"cartao_debito\",\n          \"boleto\"\n        ],\n        \"semantic_type\": \"\",\n        \"description\": \"\"\n      }\n    },\n    {\n      \"column\": \"Quantidade de parcelas\",\n      \"properties\": {\n        \"dtype\": \"number\",\n        \"std\": 2,\n        \"min\": 1,\n        \"max\": 24,\n        \"num_unique_values\": 17,\n        \"samples\": [\n          1,\n          4,\n          2\n        ],\n        \"semantic_type\": \"\",\n        \"description\": \"\"\n      }\n    },\n    {\n      \"column\": \"lat\",\n      \"properties\": {\n        \"dtype\": \"number\",\n        \"std\": 5.321014840827842,\n        \"min\": -30.17,\n        \"max\": 1.99,\n        \"num_unique_values\": 26,\n        \"samples\": [\n          -3.79,\n          -5.81,\n          -18.1\n        ],\n        \"semantic_type\": \"\",\n        \"description\": \"\"\n      }\n    },\n    {\n      \"column\": \"lon\",\n      \"properties\": {\n        \"dtype\": \"number\",\n        \"std\": 4.1691112903695196,\n        \"min\": -70.55,\n        \"max\": -36.59,\n        \"num_unique_values\": 26,\n        \"samples\": [\n          -52.48,\n          -36.59,\n          -44.38\n        ],\n        \"semantic_type\": \"\",\n        \"description\": \"\"\n      }\n    }\n  ]\n}"
            }
          },
          "metadata": {},
          "execution_count": 281
        }
      ]
    },
    {
      "cell_type": "markdown",
      "source": [
        "###Estatísticas Básicas"
      ],
      "metadata": {
        "id": "ZeLLXn-z2z_7"
      }
    },
    {
      "cell_type": "code",
      "source": [
        "# Estatísticas básicas\n",
        "print()\n",
        "print(\"Estatísticas básicas:\")\n",
        "print(loja2.describe())\n",
        "print()\n",
        "print(\"=\" * 50)\n",
        "\n",
        "# Colunas e tipos de dados\n",
        "print()\n",
        "print(\"Informações sobre o DataFrame:\")\n",
        "print(loja2.info())\n",
        "print()\n",
        "print(\"=\" * 50)\n",
        "\n",
        "\n",
        "# Valores ausentes\n",
        "print()\n",
        "print(\"Verificação de valores ausentes:\")\n",
        "print(loja2.isnull().sum())"
      ],
      "metadata": {
        "colab": {
          "base_uri": "https://localhost:8080/"
        },
        "outputId": "f02b7936-e207-4886-dc04-e6fcc1c234bd",
        "id": "5lRGI_LT2z_7"
      },
      "execution_count": 282,
      "outputs": [
        {
          "output_type": "stream",
          "name": "stdout",
          "text": [
            "\n",
            "Estatísticas básicas:\n",
            "             Preço        Frete  Avaliação da compra  Quantidade de parcelas  \\\n",
            "count  2359.000000  2359.000000          2359.000000             2359.000000   \n",
            "mean    630.970352    33.621941             4.037304                2.902501   \n",
            "std     794.078997    42.321932             1.356153                2.848416   \n",
            "min      10.160000     0.000000             1.000000                1.000000   \n",
            "25%      72.730000     3.904020             4.000000                1.000000   \n",
            "50%     290.960000    15.406740             5.000000                1.000000   \n",
            "75%     903.580000    47.250196             5.000000                4.000000   \n",
            "max    3937.850000   216.707633             5.000000               24.000000   \n",
            "\n",
            "               lat          lon  \n",
            "count  2359.000000  2359.000000  \n",
            "mean    -20.473243   -47.098508  \n",
            "std       5.321015     4.169111  \n",
            "min     -30.170000   -70.550000  \n",
            "25%     -22.250000   -48.790000  \n",
            "50%     -22.190000   -48.790000  \n",
            "75%     -18.100000   -44.380000  \n",
            "max       1.990000   -36.590000  \n",
            "\n",
            "==================================================\n",
            "\n",
            "Informações sobre o DataFrame:\n",
            "<class 'pandas.core.frame.DataFrame'>\n",
            "RangeIndex: 2359 entries, 0 to 2358\n",
            "Data columns (total 12 columns):\n",
            " #   Column                  Non-Null Count  Dtype  \n",
            "---  ------                  --------------  -----  \n",
            " 0   Produto                 2359 non-null   object \n",
            " 1   Categoria do Produto    2359 non-null   object \n",
            " 2   Preço                   2359 non-null   float64\n",
            " 3   Frete                   2359 non-null   float64\n",
            " 4   Data da Compra          2359 non-null   object \n",
            " 5   Vendedor                2359 non-null   object \n",
            " 6   Local da compra         2359 non-null   object \n",
            " 7   Avaliação da compra     2359 non-null   int64  \n",
            " 8   Tipo de pagamento       2359 non-null   object \n",
            " 9   Quantidade de parcelas  2359 non-null   int64  \n",
            " 10  lat                     2359 non-null   float64\n",
            " 11  lon                     2359 non-null   float64\n",
            "dtypes: float64(4), int64(2), object(6)\n",
            "memory usage: 221.3+ KB\n",
            "None\n",
            "\n",
            "==================================================\n",
            "\n",
            "Verificação de valores ausentes:\n",
            "Produto                   0\n",
            "Categoria do Produto      0\n",
            "Preço                     0\n",
            "Frete                     0\n",
            "Data da Compra            0\n",
            "Vendedor                  0\n",
            "Local da compra           0\n",
            "Avaliação da compra       0\n",
            "Tipo de pagamento         0\n",
            "Quantidade de parcelas    0\n",
            "lat                       0\n",
            "lon                       0\n",
            "dtype: int64\n"
          ]
        }
      ]
    },
    {
      "cell_type": "markdown",
      "source": [
        "###Faturamento Total"
      ],
      "metadata": {
        "id": "pQOE20RI2z_8"
      }
    },
    {
      "cell_type": "code",
      "source": [
        "loja2[\"Faturamento\"] = loja2[\"Preço\"]\n",
        "\n",
        "faturamento_total2 = loja2[\"Faturamento\"].sum()\n",
        "print(f\"O faturamento total da Loja 2 é: R$ {round(faturamento_total2, 2)}\")"
      ],
      "metadata": {
        "colab": {
          "base_uri": "https://localhost:8080/"
        },
        "outputId": "52ef8d5a-f246-40bc-8377-cc4cb221513a",
        "id": "bObifmJW2z_9"
      },
      "execution_count": 283,
      "outputs": [
        {
          "output_type": "stream",
          "name": "stdout",
          "text": [
            "O faturamento total da Loja 2 é: R$ 1488459.06\n"
          ]
        }
      ]
    },
    {
      "cell_type": "markdown",
      "source": [],
      "metadata": {
        "id": "xwAHddet2z_-"
      }
    },
    {
      "cell_type": "markdown",
      "source": [
        "### Vendas por Categoria\n"
      ],
      "metadata": {
        "id": "NWrVpVg82z_-"
      }
    },
    {
      "cell_type": "code",
      "source": [
        "# Faturamento por categoria\n",
        "faturamento_categoria2 = loja2.groupby(\"Categoria do Produto\")[\"Preço\"].sum().sort_values(ascending=False)\n",
        "print(\"Faturamento por categoria na Loja 2 (em R$):\\n\", faturamento_categoria2.round(2))"
      ],
      "metadata": {
        "colab": {
          "base_uri": "https://localhost:8080/"
        },
        "outputId": "e774f078-2df7-43ef-e2f8-8867c22a18e4",
        "id": "bb6t8LQB2z_-"
      },
      "execution_count": 284,
      "outputs": [
        {
          "output_type": "stream",
          "name": "stdout",
          "text": [
            "Faturamento por categoria na Loja 2 (em R$):\n",
            " Categoria do Produto\n",
            "eletronicos              547773.71\n",
            "eletrodomesticos         464758.13\n",
            "moveis                   235234.68\n",
            "instrumentos musicais    139987.03\n",
            "esporte e lazer           46326.09\n",
            "brinquedos                21262.21\n",
            "utilidades domesticas     19662.86\n",
            "livros                    13454.35\n",
            "Name: Preço, dtype: float64\n"
          ]
        }
      ]
    },
    {
      "cell_type": "code",
      "source": [
        "# Proporção faturamento por categoria\n",
        "faturamento_total2 = loja2[\"Preço\"].sum()\n",
        "print(\"\\nProporção do faturamento por categoria (%):\\n\", (faturamento_categoria2 / faturamento_total2 * 100).round(2))"
      ],
      "metadata": {
        "colab": {
          "base_uri": "https://localhost:8080/"
        },
        "outputId": "da3f555c-eb70-4ca2-db62-b33bd6d78e44",
        "id": "3GtbZ5Vf2z_-"
      },
      "execution_count": 285,
      "outputs": [
        {
          "output_type": "stream",
          "name": "stdout",
          "text": [
            "\n",
            "Proporção do faturamento por categoria (%):\n",
            " Categoria do Produto\n",
            "eletronicos              36.80\n",
            "eletrodomesticos         31.22\n",
            "moveis                   15.80\n",
            "instrumentos musicais     9.40\n",
            "esporte e lazer           3.11\n",
            "brinquedos                1.43\n",
            "utilidades domesticas     1.32\n",
            "livros                    0.90\n",
            "Name: Preço, dtype: float64\n"
          ]
        }
      ]
    },
    {
      "cell_type": "code",
      "source": [
        "# Ítens vendidos por catetoria\n",
        "categorias2 = loja2[\"Categoria do Produto\"].value_counts()\n",
        "print(\"Categorias mais vendidas:\\n\", categorias2)"
      ],
      "metadata": {
        "colab": {
          "base_uri": "https://localhost:8080/"
        },
        "outputId": "79d44696-8f2a-4008-b3aa-c4bb64fbf133",
        "id": "dkyt1TgI2z__"
      },
      "execution_count": 286,
      "outputs": [
        {
          "output_type": "stream",
          "name": "stdout",
          "text": [
            "Categorias mais vendidas:\n",
            " Categoria do Produto\n",
            "moveis                   442\n",
            "eletronicos              422\n",
            "brinquedos               313\n",
            "eletrodomesticos         305\n",
            "esporte e lazer          275\n",
            "instrumentos musicais    224\n",
            "livros                   197\n",
            "utilidades domesticas    181\n",
            "Name: count, dtype: int64\n"
          ]
        }
      ]
    },
    {
      "cell_type": "markdown",
      "source": [
        "### Análise de fretes\n"
      ],
      "metadata": {
        "id": "J8IDWCfg2z__"
      }
    },
    {
      "cell_type": "code",
      "source": [
        "# Avaliações\n",
        "\n",
        "avaliacoes2 = loja2[\"Avaliação da compra\"].value_counts().sort_index()\n",
        "print(\"Distribuição das avaliações na Loja 2:\\n\", avaliacoes2)"
      ],
      "metadata": {
        "colab": {
          "base_uri": "https://localhost:8080/"
        },
        "outputId": "1bd428e7-510b-4c72-83d8-350c707073da",
        "id": "Rgt0x_8D2z__"
      },
      "execution_count": 287,
      "outputs": [
        {
          "output_type": "stream",
          "name": "stdout",
          "text": [
            "Distribuição das avaliações na Loja 2:\n",
            " Avaliação da compra\n",
            "1     273\n",
            "2      93\n",
            "3     209\n",
            "4     482\n",
            "5    1302\n",
            "Name: count, dtype: int64\n"
          ]
        }
      ]
    },
    {
      "cell_type": "markdown",
      "source": [
        "### Produtos Mais e Menos Vendidos"
      ],
      "metadata": {
        "id": "z4SYn1dd2z__"
      }
    },
    {
      "cell_type": "code",
      "source": [
        "# Proutos mais vendidos\n",
        "produtos_mais2 = loja2[\"Produto\"].value_counts()\n",
        "print(\"Produtos mais vendidos na Loja 2:\\n\", produtos_mais2.head(10))\n",
        "print()\n",
        "print(\"=\" * 50)\n",
        "\n",
        "# Proutos menos vendidos\n",
        "print()\n",
        "produtos_menos2 = loja2[\"Produto\"].value_counts().sort_values(ascending=True)\n",
        "print(\"Produtos menos vendidos na Loja 2:\\n\", produtos_menos2.head(10))\n"
      ],
      "metadata": {
        "colab": {
          "base_uri": "https://localhost:8080/"
        },
        "outputId": "bb3278de-db82-452e-8882-f5b20d7199df",
        "id": "ePJYbbsY20AA"
      },
      "execution_count": 288,
      "outputs": [
        {
          "output_type": "stream",
          "name": "stdout",
          "text": [
            "Produtos mais vendidos na Loja 2:\n",
            " Produto\n",
            "Iniciando em programação    65\n",
            "Micro-ondas                 62\n",
            "Bateria                     61\n",
            "Violão                      58\n",
            "Pandeiro                    58\n",
            "Secadora de roupas          57\n",
            "Celular Plus X42            55\n",
            "Blocos de montar            54\n",
            "Guarda roupas               54\n",
            "Jogo de panelas             52\n",
            "Name: count, dtype: int64\n",
            "\n",
            "==================================================\n",
            "\n",
            "Produtos menos vendidos na Loja 2:\n",
            " Produto\n",
            "Jogo de tabuleiro     32\n",
            "Mesa de jantar        34\n",
            "Impressora            34\n",
            "Poltrona              35\n",
            "Fone de ouvido        37\n",
            "Assistente virtual    38\n",
            "Faqueiro              39\n",
            "Smart TV              40\n",
            "Celular ABXY          41\n",
            "Fogão                 42\n",
            "Name: count, dtype: int64\n"
          ]
        }
      ]
    },
    {
      "cell_type": "markdown",
      "source": [
        "### Análise de fretes\n"
      ],
      "metadata": {
        "id": "jhkvUNoL20AA"
      }
    },
    {
      "cell_type": "code",
      "source": [
        "# Análise de fretes\n",
        "\n",
        "fretes_altos2 = loja2[loja2[\"Frete\"] > 100][[\"Produto\", \"Preço\", \"Frete\", \"Avaliação da compra\"]]\n",
        "print(\"Vendas com fretes acima de R$ 100:\\n\", fretes_altos2)"
      ],
      "metadata": {
        "colab": {
          "base_uri": "https://localhost:8080/"
        },
        "outputId": "68dc01ae-8c55-4073-f6db-6a0ca8eae480",
        "id": "7SLCtoR120AA"
      },
      "execution_count": 289,
      "outputs": [
        {
          "output_type": "stream",
          "name": "stdout",
          "text": [
            "Vendas com fretes acima de R$ 100:\n",
            "                  Produto    Preço       Frete  Avaliação da compra\n",
            "23           Lava louças  2093.07  111.732807                    5\n",
            "30         TV Led UHD 4K  3546.49  189.123049                    5\n",
            "39              Smart TV  2205.06  114.997250                    5\n",
            "45             Geladeira  2423.51  129.933032                    3\n",
            "49    Lavadora de roupas  2086.95  112.012224                    5\n",
            "...                  ...      ...         ...                  ...\n",
            "2307       TV Led UHD 4K  2106.12  118.386489                    5\n",
            "2313           Geladeira  2779.44  148.527923                    5\n",
            "2319            Smart TV  2467.60  131.923381                    5\n",
            "2351    Celular Plus X42  1941.61  112.479278                    1\n",
            "2357    Celular Plus X42  2965.72  155.500107                    5\n",
            "\n",
            "[226 rows x 4 columns]\n"
          ]
        }
      ]
    },
    {
      "cell_type": "code",
      "source": [
        "# Frete médio por categoria\n",
        "frete_por_categoria2 = loja2.groupby(\"Categoria do Produto\")[\"Frete\"].mean().sort_values(ascending=False)\n",
        "print(\"Frete médio por categoria (Loja 2):\\n\")\n",
        "print(frete_por_categoria2.round(2))\n"
      ],
      "metadata": {
        "colab": {
          "base_uri": "https://localhost:8080/"
        },
        "outputId": "de49f3a2-5097-435c-812c-d1ffcdf85ade",
        "id": "5tcQygOo20AA"
      },
      "execution_count": 290,
      "outputs": [
        {
          "output_type": "stream",
          "name": "stdout",
          "text": [
            "Frete médio por categoria (Loja 2):\n",
            "\n",
            "Categoria do Produto\n",
            "eletrodomesticos         81.12\n",
            "eletronicos              68.92\n",
            "instrumentos musicais    33.08\n",
            "moveis                   28.47\n",
            "esporte e lazer           9.10\n",
            "utilidades domesticas     5.90\n",
            "brinquedos                3.78\n",
            "livros                    3.76\n",
            "Name: Frete, dtype: float64\n"
          ]
        }
      ]
    },
    {
      "cell_type": "code",
      "source": [
        "# Frete médio por produto\n",
        "frete_por_produto2 = loja2.groupby(\"Produto\")[\"Frete\"].mean().sort_values(ascending=False)\n",
        "print(\"Frete médio por produto (Loja 1):\\n\")\n",
        "print(frete_por_produto2.head(10).round(2))\n"
      ],
      "metadata": {
        "colab": {
          "base_uri": "https://localhost:8080/"
        },
        "outputId": "e356a9f9-509b-481b-ce30-d1b714264bef",
        "id": "AynDt59b20AA"
      },
      "execution_count": 291,
      "outputs": [
        {
          "output_type": "stream",
          "name": "stdout",
          "text": [
            "Frete médio por produto (Loja 1):\n",
            "\n",
            "Produto\n",
            "TV Led UHD 4K         163.05\n",
            "Celular Plus X42      146.17\n",
            "Geladeira             141.26\n",
            "Smart TV              108.67\n",
            "Lavadora de roupas     97.07\n",
            "Lava louças            90.79\n",
            "Tablet ABXY            90.54\n",
            "Secadora de roupas     73.39\n",
            "Celular ABXY           72.10\n",
            "Guitarra               54.54\n",
            "Name: Frete, dtype: float64\n"
          ]
        }
      ]
    },
    {
      "cell_type": "markdown",
      "source": [
        "##**Loja 3**"
      ],
      "metadata": {
        "id": "pdPvYcF5G3aX"
      }
    },
    {
      "cell_type": "markdown",
      "source": [
        "###Visualização de Dados"
      ],
      "metadata": {
        "id": "HGbYZWylG3aY"
      }
    },
    {
      "cell_type": "code",
      "source": [
        "loja3.head()"
      ],
      "metadata": {
        "colab": {
          "base_uri": "https://localhost:8080/",
          "height": 310
        },
        "outputId": "ff5d001b-fc9a-4c1c-eef0-5850f00fc934",
        "id": "QQw_TS-fG3aY"
      },
      "execution_count": 292,
      "outputs": [
        {
          "output_type": "execute_result",
          "data": {
            "text/plain": [
              "              Produto   Categoria do Produto    Preço      Frete  \\\n",
              "0  Secadora de roupas       eletrodomesticos  1713.50  88.823159   \n",
              "1              Cômoda                 moveis   386.81  18.180908   \n",
              "2              Violão  instrumentos musicais   404.62  23.197592   \n",
              "3       Bola de vôlei        esporte e lazer    78.40   4.463341   \n",
              "4       Guarda roupas                 moveis   694.76  34.578319   \n",
              "\n",
              "  Data da Compra        Vendedor Local da compra  Avaliação da compra  \\\n",
              "0     17/12/2021  Camila Ribeiro              CE                    4   \n",
              "1     10/02/2021   Larissa Alves              RS                    3   \n",
              "2     22/01/2023  Lucas Oliveira              SP                    5   \n",
              "3     22/03/2022     Pedro Gomes              BA                    4   \n",
              "4     12/01/2022   Bianca Santos              SP                    1   \n",
              "\n",
              "  Tipo de pagamento  Quantidade de parcelas    lat    lon  \n",
              "0    cartao_credito                       4  -5.20 -39.53  \n",
              "1    cartao_credito                       1 -30.17 -53.50  \n",
              "2    cartao_credito                       3 -22.19 -48.79  \n",
              "3    cartao_credito                       6 -13.29 -41.71  \n",
              "4    cartao_credito                       1 -22.19 -48.79  "
            ],
            "text/html": [
              "\n",
              "  <div id=\"df-17532c60-2dd5-4afb-859f-3e60062046a4\" class=\"colab-df-container\">\n",
              "    <div>\n",
              "<style scoped>\n",
              "    .dataframe tbody tr th:only-of-type {\n",
              "        vertical-align: middle;\n",
              "    }\n",
              "\n",
              "    .dataframe tbody tr th {\n",
              "        vertical-align: top;\n",
              "    }\n",
              "\n",
              "    .dataframe thead th {\n",
              "        text-align: right;\n",
              "    }\n",
              "</style>\n",
              "<table border=\"1\" class=\"dataframe\">\n",
              "  <thead>\n",
              "    <tr style=\"text-align: right;\">\n",
              "      <th></th>\n",
              "      <th>Produto</th>\n",
              "      <th>Categoria do Produto</th>\n",
              "      <th>Preço</th>\n",
              "      <th>Frete</th>\n",
              "      <th>Data da Compra</th>\n",
              "      <th>Vendedor</th>\n",
              "      <th>Local da compra</th>\n",
              "      <th>Avaliação da compra</th>\n",
              "      <th>Tipo de pagamento</th>\n",
              "      <th>Quantidade de parcelas</th>\n",
              "      <th>lat</th>\n",
              "      <th>lon</th>\n",
              "    </tr>\n",
              "  </thead>\n",
              "  <tbody>\n",
              "    <tr>\n",
              "      <th>0</th>\n",
              "      <td>Secadora de roupas</td>\n",
              "      <td>eletrodomesticos</td>\n",
              "      <td>1713.50</td>\n",
              "      <td>88.823159</td>\n",
              "      <td>17/12/2021</td>\n",
              "      <td>Camila Ribeiro</td>\n",
              "      <td>CE</td>\n",
              "      <td>4</td>\n",
              "      <td>cartao_credito</td>\n",
              "      <td>4</td>\n",
              "      <td>-5.20</td>\n",
              "      <td>-39.53</td>\n",
              "    </tr>\n",
              "    <tr>\n",
              "      <th>1</th>\n",
              "      <td>Cômoda</td>\n",
              "      <td>moveis</td>\n",
              "      <td>386.81</td>\n",
              "      <td>18.180908</td>\n",
              "      <td>10/02/2021</td>\n",
              "      <td>Larissa Alves</td>\n",
              "      <td>RS</td>\n",
              "      <td>3</td>\n",
              "      <td>cartao_credito</td>\n",
              "      <td>1</td>\n",
              "      <td>-30.17</td>\n",
              "      <td>-53.50</td>\n",
              "    </tr>\n",
              "    <tr>\n",
              "      <th>2</th>\n",
              "      <td>Violão</td>\n",
              "      <td>instrumentos musicais</td>\n",
              "      <td>404.62</td>\n",
              "      <td>23.197592</td>\n",
              "      <td>22/01/2023</td>\n",
              "      <td>Lucas Oliveira</td>\n",
              "      <td>SP</td>\n",
              "      <td>5</td>\n",
              "      <td>cartao_credito</td>\n",
              "      <td>3</td>\n",
              "      <td>-22.19</td>\n",
              "      <td>-48.79</td>\n",
              "    </tr>\n",
              "    <tr>\n",
              "      <th>3</th>\n",
              "      <td>Bola de vôlei</td>\n",
              "      <td>esporte e lazer</td>\n",
              "      <td>78.40</td>\n",
              "      <td>4.463341</td>\n",
              "      <td>22/03/2022</td>\n",
              "      <td>Pedro Gomes</td>\n",
              "      <td>BA</td>\n",
              "      <td>4</td>\n",
              "      <td>cartao_credito</td>\n",
              "      <td>6</td>\n",
              "      <td>-13.29</td>\n",
              "      <td>-41.71</td>\n",
              "    </tr>\n",
              "    <tr>\n",
              "      <th>4</th>\n",
              "      <td>Guarda roupas</td>\n",
              "      <td>moveis</td>\n",
              "      <td>694.76</td>\n",
              "      <td>34.578319</td>\n",
              "      <td>12/01/2022</td>\n",
              "      <td>Bianca Santos</td>\n",
              "      <td>SP</td>\n",
              "      <td>1</td>\n",
              "      <td>cartao_credito</td>\n",
              "      <td>1</td>\n",
              "      <td>-22.19</td>\n",
              "      <td>-48.79</td>\n",
              "    </tr>\n",
              "  </tbody>\n",
              "</table>\n",
              "</div>\n",
              "    <div class=\"colab-df-buttons\">\n",
              "\n",
              "  <div class=\"colab-df-container\">\n",
              "    <button class=\"colab-df-convert\" onclick=\"convertToInteractive('df-17532c60-2dd5-4afb-859f-3e60062046a4')\"\n",
              "            title=\"Convert this dataframe to an interactive table.\"\n",
              "            style=\"display:none;\">\n",
              "\n",
              "  <svg xmlns=\"http://www.w3.org/2000/svg\" height=\"24px\" viewBox=\"0 -960 960 960\">\n",
              "    <path d=\"M120-120v-720h720v720H120Zm60-500h600v-160H180v160Zm220 220h160v-160H400v160Zm0 220h160v-160H400v160ZM180-400h160v-160H180v160Zm440 0h160v-160H620v160ZM180-180h160v-160H180v160Zm440 0h160v-160H620v160Z\"/>\n",
              "  </svg>\n",
              "    </button>\n",
              "\n",
              "  <style>\n",
              "    .colab-df-container {\n",
              "      display:flex;\n",
              "      gap: 12px;\n",
              "    }\n",
              "\n",
              "    .colab-df-convert {\n",
              "      background-color: #E8F0FE;\n",
              "      border: none;\n",
              "      border-radius: 50%;\n",
              "      cursor: pointer;\n",
              "      display: none;\n",
              "      fill: #1967D2;\n",
              "      height: 32px;\n",
              "      padding: 0 0 0 0;\n",
              "      width: 32px;\n",
              "    }\n",
              "\n",
              "    .colab-df-convert:hover {\n",
              "      background-color: #E2EBFA;\n",
              "      box-shadow: 0px 1px 2px rgba(60, 64, 67, 0.3), 0px 1px 3px 1px rgba(60, 64, 67, 0.15);\n",
              "      fill: #174EA6;\n",
              "    }\n",
              "\n",
              "    .colab-df-buttons div {\n",
              "      margin-bottom: 4px;\n",
              "    }\n",
              "\n",
              "    [theme=dark] .colab-df-convert {\n",
              "      background-color: #3B4455;\n",
              "      fill: #D2E3FC;\n",
              "    }\n",
              "\n",
              "    [theme=dark] .colab-df-convert:hover {\n",
              "      background-color: #434B5C;\n",
              "      box-shadow: 0px 1px 3px 1px rgba(0, 0, 0, 0.15);\n",
              "      filter: drop-shadow(0px 1px 2px rgba(0, 0, 0, 0.3));\n",
              "      fill: #FFFFFF;\n",
              "    }\n",
              "  </style>\n",
              "\n",
              "    <script>\n",
              "      const buttonEl =\n",
              "        document.querySelector('#df-17532c60-2dd5-4afb-859f-3e60062046a4 button.colab-df-convert');\n",
              "      buttonEl.style.display =\n",
              "        google.colab.kernel.accessAllowed ? 'block' : 'none';\n",
              "\n",
              "      async function convertToInteractive(key) {\n",
              "        const element = document.querySelector('#df-17532c60-2dd5-4afb-859f-3e60062046a4');\n",
              "        const dataTable =\n",
              "          await google.colab.kernel.invokeFunction('convertToInteractive',\n",
              "                                                    [key], {});\n",
              "        if (!dataTable) return;\n",
              "\n",
              "        const docLinkHtml = 'Like what you see? Visit the ' +\n",
              "          '<a target=\"_blank\" href=https://colab.research.google.com/notebooks/data_table.ipynb>data table notebook</a>'\n",
              "          + ' to learn more about interactive tables.';\n",
              "        element.innerHTML = '';\n",
              "        dataTable['output_type'] = 'display_data';\n",
              "        await google.colab.output.renderOutput(dataTable, element);\n",
              "        const docLink = document.createElement('div');\n",
              "        docLink.innerHTML = docLinkHtml;\n",
              "        element.appendChild(docLink);\n",
              "      }\n",
              "    </script>\n",
              "  </div>\n",
              "\n",
              "\n",
              "<div id=\"df-c0f15ceb-3cf5-45d0-a474-063036395e16\">\n",
              "  <button class=\"colab-df-quickchart\" onclick=\"quickchart('df-c0f15ceb-3cf5-45d0-a474-063036395e16')\"\n",
              "            title=\"Suggest charts\"\n",
              "            style=\"display:none;\">\n",
              "\n",
              "<svg xmlns=\"http://www.w3.org/2000/svg\" height=\"24px\"viewBox=\"0 0 24 24\"\n",
              "     width=\"24px\">\n",
              "    <g>\n",
              "        <path d=\"M19 3H5c-1.1 0-2 .9-2 2v14c0 1.1.9 2 2 2h14c1.1 0 2-.9 2-2V5c0-1.1-.9-2-2-2zM9 17H7v-7h2v7zm4 0h-2V7h2v10zm4 0h-2v-4h2v4z\"/>\n",
              "    </g>\n",
              "</svg>\n",
              "  </button>\n",
              "\n",
              "<style>\n",
              "  .colab-df-quickchart {\n",
              "      --bg-color: #E8F0FE;\n",
              "      --fill-color: #1967D2;\n",
              "      --hover-bg-color: #E2EBFA;\n",
              "      --hover-fill-color: #174EA6;\n",
              "      --disabled-fill-color: #AAA;\n",
              "      --disabled-bg-color: #DDD;\n",
              "  }\n",
              "\n",
              "  [theme=dark] .colab-df-quickchart {\n",
              "      --bg-color: #3B4455;\n",
              "      --fill-color: #D2E3FC;\n",
              "      --hover-bg-color: #434B5C;\n",
              "      --hover-fill-color: #FFFFFF;\n",
              "      --disabled-bg-color: #3B4455;\n",
              "      --disabled-fill-color: #666;\n",
              "  }\n",
              "\n",
              "  .colab-df-quickchart {\n",
              "    background-color: var(--bg-color);\n",
              "    border: none;\n",
              "    border-radius: 50%;\n",
              "    cursor: pointer;\n",
              "    display: none;\n",
              "    fill: var(--fill-color);\n",
              "    height: 32px;\n",
              "    padding: 0;\n",
              "    width: 32px;\n",
              "  }\n",
              "\n",
              "  .colab-df-quickchart:hover {\n",
              "    background-color: var(--hover-bg-color);\n",
              "    box-shadow: 0 1px 2px rgba(60, 64, 67, 0.3), 0 1px 3px 1px rgba(60, 64, 67, 0.15);\n",
              "    fill: var(--button-hover-fill-color);\n",
              "  }\n",
              "\n",
              "  .colab-df-quickchart-complete:disabled,\n",
              "  .colab-df-quickchart-complete:disabled:hover {\n",
              "    background-color: var(--disabled-bg-color);\n",
              "    fill: var(--disabled-fill-color);\n",
              "    box-shadow: none;\n",
              "  }\n",
              "\n",
              "  .colab-df-spinner {\n",
              "    border: 2px solid var(--fill-color);\n",
              "    border-color: transparent;\n",
              "    border-bottom-color: var(--fill-color);\n",
              "    animation:\n",
              "      spin 1s steps(1) infinite;\n",
              "  }\n",
              "\n",
              "  @keyframes spin {\n",
              "    0% {\n",
              "      border-color: transparent;\n",
              "      border-bottom-color: var(--fill-color);\n",
              "      border-left-color: var(--fill-color);\n",
              "    }\n",
              "    20% {\n",
              "      border-color: transparent;\n",
              "      border-left-color: var(--fill-color);\n",
              "      border-top-color: var(--fill-color);\n",
              "    }\n",
              "    30% {\n",
              "      border-color: transparent;\n",
              "      border-left-color: var(--fill-color);\n",
              "      border-top-color: var(--fill-color);\n",
              "      border-right-color: var(--fill-color);\n",
              "    }\n",
              "    40% {\n",
              "      border-color: transparent;\n",
              "      border-right-color: var(--fill-color);\n",
              "      border-top-color: var(--fill-color);\n",
              "    }\n",
              "    60% {\n",
              "      border-color: transparent;\n",
              "      border-right-color: var(--fill-color);\n",
              "    }\n",
              "    80% {\n",
              "      border-color: transparent;\n",
              "      border-right-color: var(--fill-color);\n",
              "      border-bottom-color: var(--fill-color);\n",
              "    }\n",
              "    90% {\n",
              "      border-color: transparent;\n",
              "      border-bottom-color: var(--fill-color);\n",
              "    }\n",
              "  }\n",
              "</style>\n",
              "\n",
              "  <script>\n",
              "    async function quickchart(key) {\n",
              "      const quickchartButtonEl =\n",
              "        document.querySelector('#' + key + ' button');\n",
              "      quickchartButtonEl.disabled = true;  // To prevent multiple clicks.\n",
              "      quickchartButtonEl.classList.add('colab-df-spinner');\n",
              "      try {\n",
              "        const charts = await google.colab.kernel.invokeFunction(\n",
              "            'suggestCharts', [key], {});\n",
              "      } catch (error) {\n",
              "        console.error('Error during call to suggestCharts:', error);\n",
              "      }\n",
              "      quickchartButtonEl.classList.remove('colab-df-spinner');\n",
              "      quickchartButtonEl.classList.add('colab-df-quickchart-complete');\n",
              "    }\n",
              "    (() => {\n",
              "      let quickchartButtonEl =\n",
              "        document.querySelector('#df-c0f15ceb-3cf5-45d0-a474-063036395e16 button');\n",
              "      quickchartButtonEl.style.display =\n",
              "        google.colab.kernel.accessAllowed ? 'block' : 'none';\n",
              "    })();\n",
              "  </script>\n",
              "</div>\n",
              "\n",
              "    </div>\n",
              "  </div>\n"
            ],
            "application/vnd.google.colaboratory.intrinsic+json": {
              "type": "dataframe",
              "variable_name": "loja3",
              "summary": "{\n  \"name\": \"loja3\",\n  \"rows\": 2359,\n  \"fields\": [\n    {\n      \"column\": \"Produto\",\n      \"properties\": {\n        \"dtype\": \"category\",\n        \"num_unique_values\": 51,\n        \"samples\": [\n          \"Sof\\u00e1 retr\\u00e1til\",\n          \"Jogo de tabuleiro\",\n          \"Copo t\\u00e9rmico\"\n        ],\n        \"semantic_type\": \"\",\n        \"description\": \"\"\n      }\n    },\n    {\n      \"column\": \"Categoria do Produto\",\n      \"properties\": {\n        \"dtype\": \"category\",\n        \"num_unique_values\": 8,\n        \"samples\": [\n          \"moveis\",\n          \"brinquedos\",\n          \"eletrodomesticos\"\n        ],\n        \"semantic_type\": \"\",\n        \"description\": \"\"\n      }\n    },\n    {\n      \"column\": \"Pre\\u00e7o\",\n      \"properties\": {\n        \"dtype\": \"number\",\n        \"std\": 774.1916909262811,\n        \"min\": 10.08,\n        \"max\": 3957.62,\n        \"num_unique_values\": 2336,\n        \"samples\": [\n          28.03,\n          52.73,\n          781.7\n        ],\n        \"semantic_type\": \"\",\n        \"description\": \"\"\n      }\n    },\n    {\n      \"column\": \"Frete\",\n      \"properties\": {\n        \"dtype\": \"number\",\n        \"std\": 41.26051552773612,\n        \"min\": 0.0,\n        \"max\": 211.2576238709,\n        \"num_unique_values\": 2150,\n        \"samples\": [\n          49.023695298,\n          96.9569529583,\n          6.8041556613\n        ],\n        \"semantic_type\": \"\",\n        \"description\": \"\"\n      }\n    },\n    {\n      \"column\": \"Data da Compra\",\n      \"properties\": {\n        \"dtype\": \"object\",\n        \"num_unique_values\": 1024,\n        \"samples\": [\n          \"04/06/2020\",\n          \"28/03/2023\",\n          \"29/05/2022\"\n        ],\n        \"semantic_type\": \"\",\n        \"description\": \"\"\n      }\n    },\n    {\n      \"column\": \"Vendedor\",\n      \"properties\": {\n        \"dtype\": \"category\",\n        \"num_unique_values\": 14,\n        \"samples\": [\n          \"Beatriz Moraes\",\n          \"Rafael Costa\",\n          \"Camila Ribeiro\"\n        ],\n        \"semantic_type\": \"\",\n        \"description\": \"\"\n      }\n    },\n    {\n      \"column\": \"Local da compra\",\n      \"properties\": {\n        \"dtype\": \"category\",\n        \"num_unique_values\": 27,\n        \"samples\": [\n          \"PE\",\n          \"PR\",\n          \"DF\"\n        ],\n        \"semantic_type\": \"\",\n        \"description\": \"\"\n      }\n    },\n    {\n      \"column\": \"Avalia\\u00e7\\u00e3o da compra\",\n      \"properties\": {\n        \"dtype\": \"number\",\n        \"std\": 1,\n        \"min\": 1,\n        \"max\": 5,\n        \"num_unique_values\": 5,\n        \"samples\": [\n          3,\n          2,\n          5\n        ],\n        \"semantic_type\": \"\",\n        \"description\": \"\"\n      }\n    },\n    {\n      \"column\": \"Tipo de pagamento\",\n      \"properties\": {\n        \"dtype\": \"category\",\n        \"num_unique_values\": 4,\n        \"samples\": [\n          \"boleto\",\n          \"cartao_debito\",\n          \"cartao_credito\"\n        ],\n        \"semantic_type\": \"\",\n        \"description\": \"\"\n      }\n    },\n    {\n      \"column\": \"Quantidade de parcelas\",\n      \"properties\": {\n        \"dtype\": \"number\",\n        \"std\": 2,\n        \"min\": 1,\n        \"max\": 24,\n        \"num_unique_values\": 17,\n        \"samples\": [\n          4,\n          1,\n          2\n        ],\n        \"semantic_type\": \"\",\n        \"description\": \"\"\n      }\n    },\n    {\n      \"column\": \"lat\",\n      \"properties\": {\n        \"dtype\": \"number\",\n        \"std\": 5.465572145921901,\n        \"min\": -30.17,\n        \"max\": 1.99,\n        \"num_unique_values\": 27,\n        \"samples\": [\n          -8.38,\n          -24.89,\n          -15.83\n        ],\n        \"semantic_type\": \"\",\n        \"description\": \"\"\n      }\n    },\n    {\n      \"column\": \"lon\",\n      \"properties\": {\n        \"dtype\": \"number\",\n        \"std\": 4.197520488221453,\n        \"min\": -70.55,\n        \"max\": -36.59,\n        \"num_unique_values\": 27,\n        \"samples\": [\n          -37.86,\n          -51.55,\n          -47.86\n        ],\n        \"semantic_type\": \"\",\n        \"description\": \"\"\n      }\n    }\n  ]\n}"
            }
          },
          "metadata": {},
          "execution_count": 292
        }
      ]
    },
    {
      "cell_type": "markdown",
      "source": [
        "###Estatísticas Básicas"
      ],
      "metadata": {
        "id": "xrhgo6vqG3aY"
      }
    },
    {
      "cell_type": "code",
      "source": [
        "# Estatísticas básicas\n",
        "print()\n",
        "print(\"Estatísticas básicas:\")\n",
        "print(loja3.describe())\n",
        "print()\n",
        "print(\"=\" * 50)\n",
        "\n",
        "# Colunas e tipos de dados\n",
        "print()\n",
        "print(\"Informações sobre o DataFrame:\")\n",
        "print(loja3.info())\n",
        "print()\n",
        "print(\"=\" * 50)\n",
        "\n",
        "\n",
        "# Valores ausentes\n",
        "print()\n",
        "print(\"Verificação de valores ausentes:\")\n",
        "print(loja3.isnull().sum())"
      ],
      "metadata": {
        "colab": {
          "base_uri": "https://localhost:8080/"
        },
        "outputId": "e396ec26-0cc7-4da8-b812-a349b1b29304",
        "id": "LJ6wtnI2G3aZ"
      },
      "execution_count": 293,
      "outputs": [
        {
          "output_type": "stream",
          "name": "stdout",
          "text": [
            "\n",
            "Estatísticas básicas:\n",
            "             Preço        Frete  Avaliação da compra  Quantidade de parcelas  \\\n",
            "count  2359.000000  2359.000000          2359.000000             2359.000000   \n",
            "mean    620.612560    33.074464             4.048326                2.967783   \n",
            "std     774.191691    41.260516             1.386426                2.812153   \n",
            "min      10.080000     0.000000             1.000000                1.000000   \n",
            "25%      76.560000     4.149261             4.000000                1.000000   \n",
            "50%     301.670000    15.879702             5.000000                2.000000   \n",
            "75%     888.040000    46.635503             5.000000                4.000000   \n",
            "max    3957.620000   211.257624             5.000000               24.000000   \n",
            "\n",
            "               lat          lon  \n",
            "count  2359.000000  2359.000000  \n",
            "mean    -20.405396   -47.129233  \n",
            "std       5.465572     4.197520  \n",
            "min     -30.170000   -70.550000  \n",
            "25%     -22.250000   -48.790000  \n",
            "50%     -22.190000   -48.790000  \n",
            "75%     -18.100000   -44.380000  \n",
            "max       1.990000   -36.590000  \n",
            "\n",
            "==================================================\n",
            "\n",
            "Informações sobre o DataFrame:\n",
            "<class 'pandas.core.frame.DataFrame'>\n",
            "RangeIndex: 2359 entries, 0 to 2358\n",
            "Data columns (total 12 columns):\n",
            " #   Column                  Non-Null Count  Dtype  \n",
            "---  ------                  --------------  -----  \n",
            " 0   Produto                 2359 non-null   object \n",
            " 1   Categoria do Produto    2359 non-null   object \n",
            " 2   Preço                   2359 non-null   float64\n",
            " 3   Frete                   2359 non-null   float64\n",
            " 4   Data da Compra          2359 non-null   object \n",
            " 5   Vendedor                2359 non-null   object \n",
            " 6   Local da compra         2359 non-null   object \n",
            " 7   Avaliação da compra     2359 non-null   int64  \n",
            " 8   Tipo de pagamento       2359 non-null   object \n",
            " 9   Quantidade de parcelas  2359 non-null   int64  \n",
            " 10  lat                     2359 non-null   float64\n",
            " 11  lon                     2359 non-null   float64\n",
            "dtypes: float64(4), int64(2), object(6)\n",
            "memory usage: 221.3+ KB\n",
            "None\n",
            "\n",
            "==================================================\n",
            "\n",
            "Verificação de valores ausentes:\n",
            "Produto                   0\n",
            "Categoria do Produto      0\n",
            "Preço                     0\n",
            "Frete                     0\n",
            "Data da Compra            0\n",
            "Vendedor                  0\n",
            "Local da compra           0\n",
            "Avaliação da compra       0\n",
            "Tipo de pagamento         0\n",
            "Quantidade de parcelas    0\n",
            "lat                       0\n",
            "lon                       0\n",
            "dtype: int64\n"
          ]
        }
      ]
    },
    {
      "cell_type": "markdown",
      "source": [
        "###Faturamento Total"
      ],
      "metadata": {
        "id": "eisBYoNOG3aZ"
      }
    },
    {
      "cell_type": "code",
      "source": [
        "loja3[\"Faturamento\"] = loja3[\"Preço\"]\n",
        "\n",
        "faturamento_total3 = loja3[\"Faturamento\"].sum()\n",
        "print(f\"O faturamento total da Loja 3 é: R$ {round(faturamento_total3, 2)}\")"
      ],
      "metadata": {
        "colab": {
          "base_uri": "https://localhost:8080/"
        },
        "outputId": "7751d3fa-7f9b-4179-91e8-0ca31f9d5cb1",
        "id": "iK4pTGuKG3aZ"
      },
      "execution_count": 294,
      "outputs": [
        {
          "output_type": "stream",
          "name": "stdout",
          "text": [
            "O faturamento total da Loja 3 é: R$ 1464025.03\n"
          ]
        }
      ]
    },
    {
      "cell_type": "markdown",
      "source": [],
      "metadata": {
        "id": "GxRIOF5lG3aZ"
      }
    },
    {
      "cell_type": "markdown",
      "source": [
        "### Vendas por Categoria\n"
      ],
      "metadata": {
        "id": "dhSlfY9BG3aZ"
      }
    },
    {
      "cell_type": "code",
      "source": [
        "# Faturamento por categoria\n",
        "faturamento_categoria3 = loja3.groupby(\"Categoria do Produto\")[\"Preço\"].sum().sort_values(ascending=False)\n",
        "print(\"Faturamento por categoria na Loja 3 (em R$):\\n\", faturamento_categoria3.round(2))"
      ],
      "metadata": {
        "colab": {
          "base_uri": "https://localhost:8080/"
        },
        "outputId": "47c26ae1-c0f4-4c6b-da8c-6be47d194e4f",
        "id": "vyeiaq_aG3aa"
      },
      "execution_count": 295,
      "outputs": [
        {
          "output_type": "stream",
          "name": "stdout",
          "text": [
            "Faturamento por categoria na Loja 3 (em R$):\n",
            " Categoria do Produto\n",
            "eletronicos              547699.92\n",
            "eletrodomesticos         438984.89\n",
            "moveis                   268095.56\n",
            "instrumentos musicais    103174.45\n",
            "esporte e lazer           47456.10\n",
            "brinquedos                25869.20\n",
            "utilidades domesticas     20080.21\n",
            "livros                    12664.70\n",
            "Name: Preço, dtype: float64\n"
          ]
        }
      ]
    },
    {
      "cell_type": "code",
      "source": [
        "# Proporção faturamento por categoria\n",
        "faturamento_total3 = loja3[\"Preço\"].sum()\n",
        "print(\"\\nProporção do faturamento por categoria (%):\\n\", (faturamento_categoria3 / faturamento_total3 * 100).round(2))"
      ],
      "metadata": {
        "colab": {
          "base_uri": "https://localhost:8080/"
        },
        "outputId": "617c66ae-8f85-4fcd-f376-c78960108e51",
        "id": "Mq1OG8wWG3aa"
      },
      "execution_count": 296,
      "outputs": [
        {
          "output_type": "stream",
          "name": "stdout",
          "text": [
            "\n",
            "Proporção do faturamento por categoria (%):\n",
            " Categoria do Produto\n",
            "eletronicos              37.41\n",
            "eletrodomesticos         29.98\n",
            "moveis                   18.31\n",
            "instrumentos musicais     7.05\n",
            "esporte e lazer           3.24\n",
            "brinquedos                1.77\n",
            "utilidades domesticas     1.37\n",
            "livros                    0.87\n",
            "Name: Preço, dtype: float64\n"
          ]
        }
      ]
    },
    {
      "cell_type": "code",
      "source": [
        "# Ítens vendidos por catetoria\n",
        "categorias3 = loja3[\"Categoria do Produto\"].value_counts()\n",
        "print(\"Categorias mais vendidas:\\n\", categorias3)"
      ],
      "metadata": {
        "colab": {
          "base_uri": "https://localhost:8080/"
        },
        "outputId": "2efa60f9-deaa-49cc-cccc-ad313b395817",
        "id": "z2M5RBHuG3aa"
      },
      "execution_count": 297,
      "outputs": [
        {
          "output_type": "stream",
          "name": "stdout",
          "text": [
            "Categorias mais vendidas:\n",
            " Categoria do Produto\n",
            "moveis                   499\n",
            "eletronicos              451\n",
            "brinquedos               315\n",
            "eletrodomesticos         278\n",
            "esporte e lazer          277\n",
            "livros                   185\n",
            "instrumentos musicais    177\n",
            "utilidades domesticas    177\n",
            "Name: count, dtype: int64\n"
          ]
        }
      ]
    },
    {
      "cell_type": "markdown",
      "source": [
        "### Análise de fretes\n"
      ],
      "metadata": {
        "id": "a8wVytfHG3aa"
      }
    },
    {
      "cell_type": "code",
      "source": [
        "# Avaliações\n",
        "\n",
        "avaliacoes3 = loja3[\"Avaliação da compra\"].value_counts().sort_index()\n",
        "print(\"Distribuição das avaliações na Loja 3:\\n\", avaliacoes3)"
      ],
      "metadata": {
        "colab": {
          "base_uri": "https://localhost:8080/"
        },
        "outputId": "6d437578-9ecb-4c96-c7b6-2ceb6f681c2f",
        "id": "jNgltoq8G3aa"
      },
      "execution_count": 298,
      "outputs": [
        {
          "output_type": "stream",
          "name": "stdout",
          "text": [
            "Distribuição das avaliações na Loja 3:\n",
            " Avaliação da compra\n",
            "1     297\n",
            "2      79\n",
            "3     193\n",
            "4     434\n",
            "5    1356\n",
            "Name: count, dtype: int64\n"
          ]
        }
      ]
    },
    {
      "cell_type": "markdown",
      "source": [
        "### Produtos Mais e Menos Vendidos"
      ],
      "metadata": {
        "id": "NVv-TLCCG3ab"
      }
    },
    {
      "cell_type": "code",
      "source": [
        "# Proutos mais vendidos\n",
        "produtos_mais3 = loja3[\"Produto\"].value_counts()\n",
        "print(\"Produtos mais vendidos na Loja 3:\\n\", produtos_mais3.head(10))\n",
        "print()\n",
        "print(\"=\" * 50)\n",
        "\n",
        "# Proutos menos vendidos\n",
        "print()\n",
        "produtos_menos3 = loja3[\"Produto\"].value_counts().sort_values(ascending=True)\n",
        "print(\"Produtos menos vendidos na Loja 3:\\n\", produtos_menos3.head(10))\n"
      ],
      "metadata": {
        "colab": {
          "base_uri": "https://localhost:8080/"
        },
        "outputId": "daa7d932-1bc2-4b16-a5af-2727728c77ef",
        "id": "2Ap6t0HBG3ab"
      },
      "execution_count": 299,
      "outputs": [
        {
          "output_type": "stream",
          "name": "stdout",
          "text": [
            "Produtos mais vendidos na Loja 3:\n",
            " Produto\n",
            "Kit banquetas               57\n",
            "Mesa de jantar              56\n",
            "Cama king                   56\n",
            "Jogo de panelas             55\n",
            "Cômoda                      55\n",
            "Smart TV                    54\n",
            "Fogão                       53\n",
            "Corda de pular              53\n",
            "Modelagem preditiva         53\n",
            "Carrinho controle remoto    52\n",
            "Name: count, dtype: int64\n",
            "\n",
            "==================================================\n",
            "\n",
            "Produtos menos vendidos na Loja 3:\n",
            " Produto\n",
            "Blocos de montar      35\n",
            "Micro-ondas           36\n",
            "Jogo de copos         36\n",
            "Mochila               36\n",
            "Copo térmico          38\n",
            "Guitarra              38\n",
            "Faqueiro              39\n",
            "Headset               39\n",
            "Assistente virtual    39\n",
            "Boneca bebê           39\n",
            "Name: count, dtype: int64\n"
          ]
        }
      ]
    },
    {
      "cell_type": "markdown",
      "source": [
        "### Análise de fretes\n"
      ],
      "metadata": {
        "id": "lGICmmMDG3ab"
      }
    },
    {
      "cell_type": "code",
      "source": [
        "# Análise de fretes\n",
        "\n",
        "fretes_altos3 = loja3[loja3[\"Frete\"] > 100][[\"Produto\", \"Preço\", \"Frete\", \"Avaliação da compra\"]]\n",
        "print(\"Vendas com fretes acima de R$ 100:\\n\", fretes_altos3)"
      ],
      "metadata": {
        "colab": {
          "base_uri": "https://localhost:8080/"
        },
        "outputId": "99532cc6-7214-47d1-a063-1e9905bf3d4e",
        "id": "vpEsf855G3ab"
      },
      "execution_count": 300,
      "outputs": [
        {
          "output_type": "stream",
          "name": "stdout",
          "text": [
            "Vendas com fretes acima de R$ 100:\n",
            "                  Produto    Preço       Frete  Avaliação da compra\n",
            "15         TV Led UHD 4K  2053.75  106.940448                    5\n",
            "20    Lavadora de roupas  2003.23  107.554386                    1\n",
            "42              Smart TV  2067.76  110.385125                    5\n",
            "48              Smart TV  2344.16  125.108245                    5\n",
            "57      Celular Plus X42  2345.56  125.425118                    5\n",
            "...                  ...      ...         ...                  ...\n",
            "2295       TV Led UHD 4K  3957.62  211.257624                    1\n",
            "2300            Smart TV  2443.13  127.673762                    1\n",
            "2348           Geladeira  2200.22  114.739535                    4\n",
            "2350         Tablet ABXY  2045.23  112.066161                    5\n",
            "2353       TV Led UHD 4K  3438.14  191.148260                    3\n",
            "\n",
            "[219 rows x 4 columns]\n"
          ]
        }
      ]
    },
    {
      "cell_type": "code",
      "source": [
        "# Frete médio por categoria\n",
        "frete_por_categoria3 = loja3.groupby(\"Categoria do Produto\")[\"Frete\"].mean().sort_values(ascending=False)\n",
        "print(\"Frete médio por categoria:\\n\")\n",
        "print(frete_por_categoria3.round(2))\n"
      ],
      "metadata": {
        "colab": {
          "base_uri": "https://localhost:8080/"
        },
        "outputId": "cf643d95-f471-41c7-ccc5-384cabadc560",
        "id": "qgQ2WlHtG3ab"
      },
      "execution_count": 301,
      "outputs": [
        {
          "output_type": "stream",
          "name": "stdout",
          "text": [
            "Frete médio por categoria:\n",
            "\n",
            "Categoria do Produto\n",
            "eletrodomesticos         83.90\n",
            "eletronicos              64.61\n",
            "instrumentos musicais    30.95\n",
            "moveis                   28.82\n",
            "esporte e lazer           9.26\n",
            "utilidades domesticas     6.12\n",
            "brinquedos                4.41\n",
            "livros                    3.58\n",
            "Name: Frete, dtype: float64\n"
          ]
        }
      ]
    },
    {
      "cell_type": "code",
      "source": [
        "# Frete médio por produto\n",
        "frete_por_produto3 = loja3.groupby(\"Produto\")[\"Frete\"].mean().sort_values(ascending=False)\n",
        "print(\"Frete médio por produto (Loja 3):\\n\")\n",
        "print(frete_por_produto3.head(10).round(2))\n"
      ],
      "metadata": {
        "colab": {
          "base_uri": "https://localhost:8080/"
        },
        "outputId": "9712b827-e852-4faa-fe58-452e4b834dbc",
        "id": "KJZZs-63G3ab"
      },
      "execution_count": 302,
      "outputs": [
        {
          "output_type": "stream",
          "name": "stdout",
          "text": [
            "Frete médio por produto (Loja 3):\n",
            "\n",
            "Produto\n",
            "TV Led UHD 4K         163.38\n",
            "Celular Plus X42      144.45\n",
            "Geladeira             141.15\n",
            "Smart TV              102.91\n",
            "Lavadora de roupas     96.75\n",
            "Lava louças            87.72\n",
            "Tablet ABXY            86.53\n",
            "Secadora de roupas     79.20\n",
            "Celular ABXY           69.96\n",
            "Guitarra               55.58\n",
            "Name: Frete, dtype: float64\n"
          ]
        }
      ]
    },
    {
      "cell_type": "markdown",
      "source": [
        "##**Loja 4**"
      ],
      "metadata": {
        "id": "n5qRyHaDIkuP"
      }
    },
    {
      "cell_type": "markdown",
      "source": [
        "###Visualização de Dados"
      ],
      "metadata": {
        "id": "ssxXNjkhIkuQ"
      }
    },
    {
      "cell_type": "code",
      "source": [
        "loja4.head()"
      ],
      "metadata": {
        "colab": {
          "base_uri": "https://localhost:8080/",
          "height": 293
        },
        "outputId": "a5f52d91-9a65-46df-b470-5beb62f7fcd1",
        "id": "WiT7gdDfIkuQ"
      },
      "execution_count": 303,
      "outputs": [
        {
          "output_type": "execute_result",
          "data": {
            "text/plain": [
              "               Produto Categoria do Produto    Preço      Frete  \\\n",
              "0          Lava louças     eletrodomesticos  1446.46  74.604083   \n",
              "1             Cama box               moveis   631.70  33.919251   \n",
              "2     Bola de basquete      esporte e lazer    31.54   0.000000   \n",
              "3  Modelagem preditiva               livros    76.93   1.680730   \n",
              "4       Fone de ouvido          eletronicos   185.14   7.442587   \n",
              "\n",
              "  Data da Compra        Vendedor Local da compra  Avaliação da compra  \\\n",
              "0     11/11/2022    Rafael Costa              SP                    4   \n",
              "1     03/01/2020    Thiago Silva              GO                    5   \n",
              "2     25/12/2022   Larissa Alves              MG                    5   \n",
              "3     23/11/2021  Lucas Oliveira              MG                    3   \n",
              "4     25/04/2022   Bianca Santos              SP                    4   \n",
              "\n",
              "  Tipo de pagamento  Quantidade de parcelas    lat    lon  \n",
              "0    cartao_credito                       3 -22.19 -48.79  \n",
              "1    cartao_credito                       2 -15.98 -49.86  \n",
              "2            boleto                       1 -18.10 -44.38  \n",
              "3            boleto                       1 -18.10 -44.38  \n",
              "4    cartao_credito                       7 -22.19 -48.79  "
            ],
            "text/html": [
              "\n",
              "  <div id=\"df-580059e1-abab-449b-9fc0-ffa99b93e50e\" class=\"colab-df-container\">\n",
              "    <div>\n",
              "<style scoped>\n",
              "    .dataframe tbody tr th:only-of-type {\n",
              "        vertical-align: middle;\n",
              "    }\n",
              "\n",
              "    .dataframe tbody tr th {\n",
              "        vertical-align: top;\n",
              "    }\n",
              "\n",
              "    .dataframe thead th {\n",
              "        text-align: right;\n",
              "    }\n",
              "</style>\n",
              "<table border=\"1\" class=\"dataframe\">\n",
              "  <thead>\n",
              "    <tr style=\"text-align: right;\">\n",
              "      <th></th>\n",
              "      <th>Produto</th>\n",
              "      <th>Categoria do Produto</th>\n",
              "      <th>Preço</th>\n",
              "      <th>Frete</th>\n",
              "      <th>Data da Compra</th>\n",
              "      <th>Vendedor</th>\n",
              "      <th>Local da compra</th>\n",
              "      <th>Avaliação da compra</th>\n",
              "      <th>Tipo de pagamento</th>\n",
              "      <th>Quantidade de parcelas</th>\n",
              "      <th>lat</th>\n",
              "      <th>lon</th>\n",
              "    </tr>\n",
              "  </thead>\n",
              "  <tbody>\n",
              "    <tr>\n",
              "      <th>0</th>\n",
              "      <td>Lava louças</td>\n",
              "      <td>eletrodomesticos</td>\n",
              "      <td>1446.46</td>\n",
              "      <td>74.604083</td>\n",
              "      <td>11/11/2022</td>\n",
              "      <td>Rafael Costa</td>\n",
              "      <td>SP</td>\n",
              "      <td>4</td>\n",
              "      <td>cartao_credito</td>\n",
              "      <td>3</td>\n",
              "      <td>-22.19</td>\n",
              "      <td>-48.79</td>\n",
              "    </tr>\n",
              "    <tr>\n",
              "      <th>1</th>\n",
              "      <td>Cama box</td>\n",
              "      <td>moveis</td>\n",
              "      <td>631.70</td>\n",
              "      <td>33.919251</td>\n",
              "      <td>03/01/2020</td>\n",
              "      <td>Thiago Silva</td>\n",
              "      <td>GO</td>\n",
              "      <td>5</td>\n",
              "      <td>cartao_credito</td>\n",
              "      <td>2</td>\n",
              "      <td>-15.98</td>\n",
              "      <td>-49.86</td>\n",
              "    </tr>\n",
              "    <tr>\n",
              "      <th>2</th>\n",
              "      <td>Bola de basquete</td>\n",
              "      <td>esporte e lazer</td>\n",
              "      <td>31.54</td>\n",
              "      <td>0.000000</td>\n",
              "      <td>25/12/2022</td>\n",
              "      <td>Larissa Alves</td>\n",
              "      <td>MG</td>\n",
              "      <td>5</td>\n",
              "      <td>boleto</td>\n",
              "      <td>1</td>\n",
              "      <td>-18.10</td>\n",
              "      <td>-44.38</td>\n",
              "    </tr>\n",
              "    <tr>\n",
              "      <th>3</th>\n",
              "      <td>Modelagem preditiva</td>\n",
              "      <td>livros</td>\n",
              "      <td>76.93</td>\n",
              "      <td>1.680730</td>\n",
              "      <td>23/11/2021</td>\n",
              "      <td>Lucas Oliveira</td>\n",
              "      <td>MG</td>\n",
              "      <td>3</td>\n",
              "      <td>boleto</td>\n",
              "      <td>1</td>\n",
              "      <td>-18.10</td>\n",
              "      <td>-44.38</td>\n",
              "    </tr>\n",
              "    <tr>\n",
              "      <th>4</th>\n",
              "      <td>Fone de ouvido</td>\n",
              "      <td>eletronicos</td>\n",
              "      <td>185.14</td>\n",
              "      <td>7.442587</td>\n",
              "      <td>25/04/2022</td>\n",
              "      <td>Bianca Santos</td>\n",
              "      <td>SP</td>\n",
              "      <td>4</td>\n",
              "      <td>cartao_credito</td>\n",
              "      <td>7</td>\n",
              "      <td>-22.19</td>\n",
              "      <td>-48.79</td>\n",
              "    </tr>\n",
              "  </tbody>\n",
              "</table>\n",
              "</div>\n",
              "    <div class=\"colab-df-buttons\">\n",
              "\n",
              "  <div class=\"colab-df-container\">\n",
              "    <button class=\"colab-df-convert\" onclick=\"convertToInteractive('df-580059e1-abab-449b-9fc0-ffa99b93e50e')\"\n",
              "            title=\"Convert this dataframe to an interactive table.\"\n",
              "            style=\"display:none;\">\n",
              "\n",
              "  <svg xmlns=\"http://www.w3.org/2000/svg\" height=\"24px\" viewBox=\"0 -960 960 960\">\n",
              "    <path d=\"M120-120v-720h720v720H120Zm60-500h600v-160H180v160Zm220 220h160v-160H400v160Zm0 220h160v-160H400v160ZM180-400h160v-160H180v160Zm440 0h160v-160H620v160ZM180-180h160v-160H180v160Zm440 0h160v-160H620v160Z\"/>\n",
              "  </svg>\n",
              "    </button>\n",
              "\n",
              "  <style>\n",
              "    .colab-df-container {\n",
              "      display:flex;\n",
              "      gap: 12px;\n",
              "    }\n",
              "\n",
              "    .colab-df-convert {\n",
              "      background-color: #E8F0FE;\n",
              "      border: none;\n",
              "      border-radius: 50%;\n",
              "      cursor: pointer;\n",
              "      display: none;\n",
              "      fill: #1967D2;\n",
              "      height: 32px;\n",
              "      padding: 0 0 0 0;\n",
              "      width: 32px;\n",
              "    }\n",
              "\n",
              "    .colab-df-convert:hover {\n",
              "      background-color: #E2EBFA;\n",
              "      box-shadow: 0px 1px 2px rgba(60, 64, 67, 0.3), 0px 1px 3px 1px rgba(60, 64, 67, 0.15);\n",
              "      fill: #174EA6;\n",
              "    }\n",
              "\n",
              "    .colab-df-buttons div {\n",
              "      margin-bottom: 4px;\n",
              "    }\n",
              "\n",
              "    [theme=dark] .colab-df-convert {\n",
              "      background-color: #3B4455;\n",
              "      fill: #D2E3FC;\n",
              "    }\n",
              "\n",
              "    [theme=dark] .colab-df-convert:hover {\n",
              "      background-color: #434B5C;\n",
              "      box-shadow: 0px 1px 3px 1px rgba(0, 0, 0, 0.15);\n",
              "      filter: drop-shadow(0px 1px 2px rgba(0, 0, 0, 0.3));\n",
              "      fill: #FFFFFF;\n",
              "    }\n",
              "  </style>\n",
              "\n",
              "    <script>\n",
              "      const buttonEl =\n",
              "        document.querySelector('#df-580059e1-abab-449b-9fc0-ffa99b93e50e button.colab-df-convert');\n",
              "      buttonEl.style.display =\n",
              "        google.colab.kernel.accessAllowed ? 'block' : 'none';\n",
              "\n",
              "      async function convertToInteractive(key) {\n",
              "        const element = document.querySelector('#df-580059e1-abab-449b-9fc0-ffa99b93e50e');\n",
              "        const dataTable =\n",
              "          await google.colab.kernel.invokeFunction('convertToInteractive',\n",
              "                                                    [key], {});\n",
              "        if (!dataTable) return;\n",
              "\n",
              "        const docLinkHtml = 'Like what you see? Visit the ' +\n",
              "          '<a target=\"_blank\" href=https://colab.research.google.com/notebooks/data_table.ipynb>data table notebook</a>'\n",
              "          + ' to learn more about interactive tables.';\n",
              "        element.innerHTML = '';\n",
              "        dataTable['output_type'] = 'display_data';\n",
              "        await google.colab.output.renderOutput(dataTable, element);\n",
              "        const docLink = document.createElement('div');\n",
              "        docLink.innerHTML = docLinkHtml;\n",
              "        element.appendChild(docLink);\n",
              "      }\n",
              "    </script>\n",
              "  </div>\n",
              "\n",
              "\n",
              "<div id=\"df-dd3ddce1-58db-4069-aa19-aa2f5b6a5068\">\n",
              "  <button class=\"colab-df-quickchart\" onclick=\"quickchart('df-dd3ddce1-58db-4069-aa19-aa2f5b6a5068')\"\n",
              "            title=\"Suggest charts\"\n",
              "            style=\"display:none;\">\n",
              "\n",
              "<svg xmlns=\"http://www.w3.org/2000/svg\" height=\"24px\"viewBox=\"0 0 24 24\"\n",
              "     width=\"24px\">\n",
              "    <g>\n",
              "        <path d=\"M19 3H5c-1.1 0-2 .9-2 2v14c0 1.1.9 2 2 2h14c1.1 0 2-.9 2-2V5c0-1.1-.9-2-2-2zM9 17H7v-7h2v7zm4 0h-2V7h2v10zm4 0h-2v-4h2v4z\"/>\n",
              "    </g>\n",
              "</svg>\n",
              "  </button>\n",
              "\n",
              "<style>\n",
              "  .colab-df-quickchart {\n",
              "      --bg-color: #E8F0FE;\n",
              "      --fill-color: #1967D2;\n",
              "      --hover-bg-color: #E2EBFA;\n",
              "      --hover-fill-color: #174EA6;\n",
              "      --disabled-fill-color: #AAA;\n",
              "      --disabled-bg-color: #DDD;\n",
              "  }\n",
              "\n",
              "  [theme=dark] .colab-df-quickchart {\n",
              "      --bg-color: #3B4455;\n",
              "      --fill-color: #D2E3FC;\n",
              "      --hover-bg-color: #434B5C;\n",
              "      --hover-fill-color: #FFFFFF;\n",
              "      --disabled-bg-color: #3B4455;\n",
              "      --disabled-fill-color: #666;\n",
              "  }\n",
              "\n",
              "  .colab-df-quickchart {\n",
              "    background-color: var(--bg-color);\n",
              "    border: none;\n",
              "    border-radius: 50%;\n",
              "    cursor: pointer;\n",
              "    display: none;\n",
              "    fill: var(--fill-color);\n",
              "    height: 32px;\n",
              "    padding: 0;\n",
              "    width: 32px;\n",
              "  }\n",
              "\n",
              "  .colab-df-quickchart:hover {\n",
              "    background-color: var(--hover-bg-color);\n",
              "    box-shadow: 0 1px 2px rgba(60, 64, 67, 0.3), 0 1px 3px 1px rgba(60, 64, 67, 0.15);\n",
              "    fill: var(--button-hover-fill-color);\n",
              "  }\n",
              "\n",
              "  .colab-df-quickchart-complete:disabled,\n",
              "  .colab-df-quickchart-complete:disabled:hover {\n",
              "    background-color: var(--disabled-bg-color);\n",
              "    fill: var(--disabled-fill-color);\n",
              "    box-shadow: none;\n",
              "  }\n",
              "\n",
              "  .colab-df-spinner {\n",
              "    border: 2px solid var(--fill-color);\n",
              "    border-color: transparent;\n",
              "    border-bottom-color: var(--fill-color);\n",
              "    animation:\n",
              "      spin 1s steps(1) infinite;\n",
              "  }\n",
              "\n",
              "  @keyframes spin {\n",
              "    0% {\n",
              "      border-color: transparent;\n",
              "      border-bottom-color: var(--fill-color);\n",
              "      border-left-color: var(--fill-color);\n",
              "    }\n",
              "    20% {\n",
              "      border-color: transparent;\n",
              "      border-left-color: var(--fill-color);\n",
              "      border-top-color: var(--fill-color);\n",
              "    }\n",
              "    30% {\n",
              "      border-color: transparent;\n",
              "      border-left-color: var(--fill-color);\n",
              "      border-top-color: var(--fill-color);\n",
              "      border-right-color: var(--fill-color);\n",
              "    }\n",
              "    40% {\n",
              "      border-color: transparent;\n",
              "      border-right-color: var(--fill-color);\n",
              "      border-top-color: var(--fill-color);\n",
              "    }\n",
              "    60% {\n",
              "      border-color: transparent;\n",
              "      border-right-color: var(--fill-color);\n",
              "    }\n",
              "    80% {\n",
              "      border-color: transparent;\n",
              "      border-right-color: var(--fill-color);\n",
              "      border-bottom-color: var(--fill-color);\n",
              "    }\n",
              "    90% {\n",
              "      border-color: transparent;\n",
              "      border-bottom-color: var(--fill-color);\n",
              "    }\n",
              "  }\n",
              "</style>\n",
              "\n",
              "  <script>\n",
              "    async function quickchart(key) {\n",
              "      const quickchartButtonEl =\n",
              "        document.querySelector('#' + key + ' button');\n",
              "      quickchartButtonEl.disabled = true;  // To prevent multiple clicks.\n",
              "      quickchartButtonEl.classList.add('colab-df-spinner');\n",
              "      try {\n",
              "        const charts = await google.colab.kernel.invokeFunction(\n",
              "            'suggestCharts', [key], {});\n",
              "      } catch (error) {\n",
              "        console.error('Error during call to suggestCharts:', error);\n",
              "      }\n",
              "      quickchartButtonEl.classList.remove('colab-df-spinner');\n",
              "      quickchartButtonEl.classList.add('colab-df-quickchart-complete');\n",
              "    }\n",
              "    (() => {\n",
              "      let quickchartButtonEl =\n",
              "        document.querySelector('#df-dd3ddce1-58db-4069-aa19-aa2f5b6a5068 button');\n",
              "      quickchartButtonEl.style.display =\n",
              "        google.colab.kernel.accessAllowed ? 'block' : 'none';\n",
              "    })();\n",
              "  </script>\n",
              "</div>\n",
              "\n",
              "    </div>\n",
              "  </div>\n"
            ],
            "application/vnd.google.colaboratory.intrinsic+json": {
              "type": "dataframe",
              "variable_name": "loja4",
              "summary": "{\n  \"name\": \"loja4\",\n  \"rows\": 2358,\n  \"fields\": [\n    {\n      \"column\": \"Produto\",\n      \"properties\": {\n        \"dtype\": \"category\",\n        \"num_unique_values\": 51,\n        \"samples\": [\n          \"Micro-ondas\",\n          \"Jogo de panelas\",\n          \"Lavadora de roupas\"\n        ],\n        \"semantic_type\": \"\",\n        \"description\": \"\"\n      }\n    },\n    {\n      \"column\": \"Categoria do Produto\",\n      \"properties\": {\n        \"dtype\": \"category\",\n        \"num_unique_values\": 8,\n        \"samples\": [\n          \"moveis\",\n          \"instrumentos musicais\",\n          \"eletrodomesticos\"\n        ],\n        \"semantic_type\": \"\",\n        \"description\": \"\"\n      }\n    },\n    {\n      \"column\": \"Pre\\u00e7o\",\n      \"properties\": {\n        \"dtype\": \"number\",\n        \"std\": 758.3412903699577,\n        \"min\": 10.17,\n        \"max\": 3869.56,\n        \"num_unique_values\": 2308,\n        \"samples\": [\n          1253.94,\n          24.64,\n          55.14\n        ],\n        \"semantic_type\": \"\",\n        \"description\": \"\"\n      }\n    },\n    {\n      \"column\": \"Frete\",\n      \"properties\": {\n        \"dtype\": \"number\",\n        \"std\": 40.373136407711065,\n        \"min\": 0.0,\n        \"max\": 206.3255547101,\n        \"num_unique_values\": 2157,\n        \"samples\": [\n          40.6367616517,\n          56.4729494223,\n          36.2193142715\n        ],\n        \"semantic_type\": \"\",\n        \"description\": \"\"\n      }\n    },\n    {\n      \"column\": \"Data da Compra\",\n      \"properties\": {\n        \"dtype\": \"category\",\n        \"num_unique_values\": 1030,\n        \"samples\": [\n          \"12/06/2022\",\n          \"18/04/2021\",\n          \"24/12/2020\"\n        ],\n        \"semantic_type\": \"\",\n        \"description\": \"\"\n      }\n    },\n    {\n      \"column\": \"Vendedor\",\n      \"properties\": {\n        \"dtype\": \"category\",\n        \"num_unique_values\": 14,\n        \"samples\": [\n          \"Pedro Gomes\",\n          \"Mariana Ferreira\",\n          \"Rafael Costa\"\n        ],\n        \"semantic_type\": \"\",\n        \"description\": \"\"\n      }\n    },\n    {\n      \"column\": \"Local da compra\",\n      \"properties\": {\n        \"dtype\": \"category\",\n        \"num_unique_values\": 25,\n        \"samples\": [\n          \"PR\",\n          \"PB\",\n          \"SP\"\n        ],\n        \"semantic_type\": \"\",\n        \"description\": \"\"\n      }\n    },\n    {\n      \"column\": \"Avalia\\u00e7\\u00e3o da compra\",\n      \"properties\": {\n        \"dtype\": \"number\",\n        \"std\": 1,\n        \"min\": 1,\n        \"max\": 5,\n        \"num_unique_values\": 5,\n        \"samples\": [\n          5,\n          2,\n          3\n        ],\n        \"semantic_type\": \"\",\n        \"description\": \"\"\n      }\n    },\n    {\n      \"column\": \"Tipo de pagamento\",\n      \"properties\": {\n        \"dtype\": \"category\",\n        \"num_unique_values\": 4,\n        \"samples\": [\n          \"boleto\",\n          \"cartao_debito\",\n          \"cartao_credito\"\n        ],\n        \"semantic_type\": \"\",\n        \"description\": \"\"\n      }\n    },\n    {\n      \"column\": \"Quantidade de parcelas\",\n      \"properties\": {\n        \"dtype\": \"number\",\n        \"std\": 2,\n        \"min\": 1,\n        \"max\": 18,\n        \"num_unique_values\": 13,\n        \"samples\": [\n          18,\n          9,\n          3\n        ],\n        \"semantic_type\": \"\",\n        \"description\": \"\"\n      }\n    },\n    {\n      \"column\": \"lat\",\n      \"properties\": {\n        \"dtype\": \"number\",\n        \"std\": 5.433033498008136,\n        \"min\": -30.17,\n        \"max\": 1.41,\n        \"num_unique_values\": 25,\n        \"samples\": [\n          -24.89,\n          -7.28,\n          -22.19\n        ],\n        \"semantic_type\": \"\",\n        \"description\": \"\"\n      }\n    },\n    {\n      \"column\": \"lon\",\n      \"properties\": {\n        \"dtype\": \"number\",\n        \"std\": 4.159155731945776,\n        \"min\": -65.1,\n        \"max\": -36.59,\n        \"num_unique_values\": 25,\n        \"samples\": [\n          -51.55,\n          -36.72,\n          -48.79\n        ],\n        \"semantic_type\": \"\",\n        \"description\": \"\"\n      }\n    }\n  ]\n}"
            }
          },
          "metadata": {},
          "execution_count": 303
        }
      ]
    },
    {
      "cell_type": "markdown",
      "source": [
        "###Estatísticas Básicas"
      ],
      "metadata": {
        "id": "R5ypKTtWIkuR"
      }
    },
    {
      "cell_type": "code",
      "source": [
        "# Estatísticas básicas\n",
        "print()\n",
        "print(\"Estatísticas básicas:\")\n",
        "print(loja4.describe())\n",
        "print()\n",
        "print(\"=\" * 50)\n",
        "\n",
        "# Colunas e tipos de dados\n",
        "print()\n",
        "print(\"Informações sobre o DataFrame:\")\n",
        "print(loja4.info())\n",
        "print()\n",
        "print(\"=\" * 50)\n",
        "\n",
        "\n",
        "# Valores ausentes\n",
        "print()\n",
        "print(\"Verificação de valores ausentes:\")\n",
        "print(loja4.isnull().sum())"
      ],
      "metadata": {
        "colab": {
          "base_uri": "https://localhost:8080/"
        },
        "outputId": "566da6af-af8d-4518-f0ab-3edfbf8bbe28",
        "id": "LpSLZjzMIkuR"
      },
      "execution_count": 304,
      "outputs": [
        {
          "output_type": "stream",
          "name": "stdout",
          "text": [
            "\n",
            "Estatísticas básicas:\n",
            "             Preço        Frete  Avaliação da compra  Quantidade de parcelas  \\\n",
            "count  2358.000000  2358.000000          2358.000000             2358.000000   \n",
            "mean    587.149101    31.278997             3.995759                2.896098   \n",
            "std     758.341290    40.373136             1.403063                2.730393   \n",
            "min      10.170000     0.000000             1.000000                1.000000   \n",
            "25%      71.225000     3.847061             3.000000                1.000000   \n",
            "50%     279.315000    14.614197             5.000000                1.000000   \n",
            "75%     845.577500    44.438533             5.000000                4.000000   \n",
            "max    3869.560000   206.325555             5.000000               18.000000   \n",
            "\n",
            "               lat          lon  \n",
            "count  2358.000000  2358.000000  \n",
            "mean    -20.494215   -47.107553  \n",
            "std       5.433033     4.159156  \n",
            "min     -30.170000   -65.100000  \n",
            "25%     -22.250000   -48.790000  \n",
            "50%     -22.190000   -48.790000  \n",
            "75%     -18.100000   -44.380000  \n",
            "max       1.410000   -36.590000  \n",
            "\n",
            "==================================================\n",
            "\n",
            "Informações sobre o DataFrame:\n",
            "<class 'pandas.core.frame.DataFrame'>\n",
            "RangeIndex: 2358 entries, 0 to 2357\n",
            "Data columns (total 12 columns):\n",
            " #   Column                  Non-Null Count  Dtype  \n",
            "---  ------                  --------------  -----  \n",
            " 0   Produto                 2358 non-null   object \n",
            " 1   Categoria do Produto    2358 non-null   object \n",
            " 2   Preço                   2358 non-null   float64\n",
            " 3   Frete                   2358 non-null   float64\n",
            " 4   Data da Compra          2358 non-null   object \n",
            " 5   Vendedor                2358 non-null   object \n",
            " 6   Local da compra         2358 non-null   object \n",
            " 7   Avaliação da compra     2358 non-null   int64  \n",
            " 8   Tipo de pagamento       2358 non-null   object \n",
            " 9   Quantidade de parcelas  2358 non-null   int64  \n",
            " 10  lat                     2358 non-null   float64\n",
            " 11  lon                     2358 non-null   float64\n",
            "dtypes: float64(4), int64(2), object(6)\n",
            "memory usage: 221.2+ KB\n",
            "None\n",
            "\n",
            "==================================================\n",
            "\n",
            "Verificação de valores ausentes:\n",
            "Produto                   0\n",
            "Categoria do Produto      0\n",
            "Preço                     0\n",
            "Frete                     0\n",
            "Data da Compra            0\n",
            "Vendedor                  0\n",
            "Local da compra           0\n",
            "Avaliação da compra       0\n",
            "Tipo de pagamento         0\n",
            "Quantidade de parcelas    0\n",
            "lat                       0\n",
            "lon                       0\n",
            "dtype: int64\n"
          ]
        }
      ]
    },
    {
      "cell_type": "markdown",
      "source": [
        "###Faturamento Total"
      ],
      "metadata": {
        "id": "bKCKwc6OIkuS"
      }
    },
    {
      "cell_type": "code",
      "source": [
        "loja4[\"Faturamento\"] = loja4[\"Preço\"]\n",
        "\n",
        "faturamento_total4 = loja4[\"Faturamento\"].sum()\n",
        "print(f\"O faturamento total da Loja 4 é: R$ {round(faturamento_total4, 2)}\")"
      ],
      "metadata": {
        "colab": {
          "base_uri": "https://localhost:8080/"
        },
        "outputId": "0d37ee95-1fe8-448b-b112-ea6ff2530168",
        "id": "5J7mHHO8IkuT"
      },
      "execution_count": 305,
      "outputs": [
        {
          "output_type": "stream",
          "name": "stdout",
          "text": [
            "O faturamento total da Loja 4 é: R$ 1384497.58\n"
          ]
        }
      ]
    },
    {
      "cell_type": "markdown",
      "source": [],
      "metadata": {
        "id": "YdnX1qC6IkuT"
      }
    },
    {
      "cell_type": "markdown",
      "source": [
        "### Vendas por Categoria\n"
      ],
      "metadata": {
        "id": "8yKowGjGIkuT"
      }
    },
    {
      "cell_type": "code",
      "source": [
        "# Faturamento por categoria\n",
        "faturamento_categoria4 = loja4.groupby(\"Categoria do Produto\")[\"Preço\"].sum().sort_values(ascending=False)\n",
        "print(\"Faturamento por categoria na Loja 4 (em R$):\\n\", faturamento_categoria4.round(2))"
      ],
      "metadata": {
        "colab": {
          "base_uri": "https://localhost:8080/"
        },
        "outputId": "9203c6ab-7516-462b-d1e1-f2ec65a6ad3d",
        "id": "rDAWe8jHIkuT"
      },
      "execution_count": 306,
      "outputs": [
        {
          "output_type": "stream",
          "name": "stdout",
          "text": [
            "Faturamento por categoria na Loja 4 (em R$):\n",
            " Categoria do Produto\n",
            "eletronicos              545966.86\n",
            "eletrodomesticos         377680.65\n",
            "moveis                   256705.65\n",
            "instrumentos musicais    100136.50\n",
            "esporte e lazer           44465.65\n",
            "brinquedos                27015.67\n",
            "utilidades domesticas     20098.83\n",
            "livros                    12427.77\n",
            "Name: Preço, dtype: float64\n"
          ]
        }
      ]
    },
    {
      "cell_type": "code",
      "source": [
        "# Proporção faturamento por categoria\n",
        "faturamento_total4 = loja4[\"Preço\"].sum()\n",
        "print(\"\\nProporção do faturamento por categoria (%):\\n\", (faturamento_categoria4 / faturamento_total4 * 100).round(2))"
      ],
      "metadata": {
        "colab": {
          "base_uri": "https://localhost:8080/"
        },
        "outputId": "cdff2d1b-fb17-43f5-fb7e-6fcaccf44a0e",
        "id": "p_BOftyXIkuT"
      },
      "execution_count": 307,
      "outputs": [
        {
          "output_type": "stream",
          "name": "stdout",
          "text": [
            "\n",
            "Proporção do faturamento por categoria (%):\n",
            " Categoria do Produto\n",
            "eletronicos              39.43\n",
            "eletrodomesticos         27.28\n",
            "moveis                   18.54\n",
            "instrumentos musicais     7.23\n",
            "esporte e lazer           3.21\n",
            "brinquedos                1.95\n",
            "utilidades domesticas     1.45\n",
            "livros                    0.90\n",
            "Name: Preço, dtype: float64\n"
          ]
        }
      ]
    },
    {
      "cell_type": "code",
      "source": [
        "# Ítens vendidos por catetoria\n",
        "categorias4 = loja4[\"Categoria do Produto\"].value_counts()\n",
        "print(\"Categorias mais vendidas:\\n\", categorias4)"
      ],
      "metadata": {
        "colab": {
          "base_uri": "https://localhost:8080/"
        },
        "outputId": "c7f32ec1-f2fd-46a7-a41e-59f4a6613f1e",
        "id": "vLEnX628IkuU"
      },
      "execution_count": 308,
      "outputs": [
        {
          "output_type": "stream",
          "name": "stdout",
          "text": [
            "Categorias mais vendidas:\n",
            " Categoria do Produto\n",
            "moveis                   480\n",
            "eletronicos              451\n",
            "brinquedos               338\n",
            "esporte e lazer          277\n",
            "eletrodomesticos         254\n",
            "utilidades domesticas    201\n",
            "livros                   187\n",
            "instrumentos musicais    170\n",
            "Name: count, dtype: int64\n"
          ]
        }
      ]
    },
    {
      "cell_type": "markdown",
      "source": [
        "### Análise de fretes\n"
      ],
      "metadata": {
        "id": "uPxIo2fTIkuU"
      }
    },
    {
      "cell_type": "code",
      "source": [
        "# Avaliações\n",
        "\n",
        "avaliacoes4 = loja4[\"Avaliação da compra\"].value_counts().sort_index()\n",
        "print(\"Distribuição das avaliações na Loja 4:\\n\", avaliacoes4)"
      ],
      "metadata": {
        "colab": {
          "base_uri": "https://localhost:8080/"
        },
        "outputId": "4c9e45e0-a53b-41a3-f28b-ef487f067282",
        "id": "p7r0pHreIkuU"
      },
      "execution_count": 309,
      "outputs": [
        {
          "output_type": "stream",
          "name": "stdout",
          "text": [
            "Distribuição das avaliações na Loja 4:\n",
            " Avaliação da compra\n",
            "1     310\n",
            "2      85\n",
            "3     210\n",
            "4     453\n",
            "5    1300\n",
            "Name: count, dtype: int64\n"
          ]
        }
      ]
    },
    {
      "cell_type": "markdown",
      "source": [
        "### Produtos Mais e Menos Vendidos"
      ],
      "metadata": {
        "id": "Ss3jb_-dIkuU"
      }
    },
    {
      "cell_type": "code",
      "source": [
        "# Proutos mais vendidos\n",
        "produtos_mais4 = loja4[\"Produto\"].value_counts()\n",
        "print(\"Produtos mais vendidos na Loja 4:\\n\", produtos_mais4.head(10))\n",
        "print()\n",
        "print(\"=\" * 50)\n",
        "\n",
        "# Proutos menos vendidos\n",
        "print()\n",
        "produtos_menos4 = loja4[\"Produto\"].value_counts().sort_values(ascending=True)\n",
        "print(\"Produtos menos vendidos na Loja 4:\\n\", produtos_menos4.head(10))\n"
      ],
      "metadata": {
        "colab": {
          "base_uri": "https://localhost:8080/"
        },
        "outputId": "98159682-d6c2-4e62-f8b7-1bb8d0abe961",
        "id": "b1Qk5fYvIkuV"
      },
      "execution_count": 310,
      "outputs": [
        {
          "output_type": "stream",
          "name": "stdout",
          "text": [
            "Produtos mais vendidos na Loja 4:\n",
            " Produto\n",
            "Cama box                    62\n",
            "Faqueiro                    59\n",
            "Dashboards com Power BI     56\n",
            "Cama king                   56\n",
            "Carrinho controle remoto    55\n",
            "Mesa de jantar              55\n",
            "Cômoda                      55\n",
            "Smart TV                    54\n",
            "Blocos de montar            54\n",
            "Pandeiro                    52\n",
            "Name: count, dtype: int64\n",
            "\n",
            "==================================================\n",
            "\n",
            "Produtos menos vendidos na Loja 4:\n",
            " Produto\n",
            "Guitarra                       33\n",
            "Guarda roupas                  34\n",
            "Violão                         37\n",
            "Ciência de dados com python    38\n",
            "Lavadora de roupas             38\n",
            "Geladeira                      38\n",
            "Xadrez de madeira              39\n",
            "Smartwatch                     39\n",
            "Celular ABXY                   39\n",
            "Secadora de roupas             40\n",
            "Name: count, dtype: int64\n"
          ]
        }
      ]
    },
    {
      "cell_type": "markdown",
      "source": [
        "### Análise de fretes\n"
      ],
      "metadata": {
        "id": "0Vk72-ObIkuV"
      }
    },
    {
      "cell_type": "code",
      "source": [
        "# Análise de fretes\n",
        "\n",
        "fretes_altos4 = loja4[loja4[\"Frete\"] > 100][[\"Produto\", \"Preço\", \"Frete\", \"Avaliação da compra\"]]\n",
        "print(\"Vendas com fretes acima de R$ 100:\\n\", fretes_altos4)"
      ],
      "metadata": {
        "colab": {
          "base_uri": "https://localhost:8080/"
        },
        "outputId": "b24c326a-0b40-41a0-9bd9-7f7d4d75ba73",
        "id": "j9q3XzpEIkuV"
      },
      "execution_count": 311,
      "outputs": [
        {
          "output_type": "stream",
          "name": "stdout",
          "text": [
            "Vendas com fretes acima de R$ 100:\n",
            "                Produto    Preço       Frete  Avaliação da compra\n",
            "5            Geladeira  2122.48  110.600114                    1\n",
            "8     Celular Plus X42  3118.72  163.646897                    5\n",
            "35       TV Led UHD 4K  3120.08  163.719313                    5\n",
            "38            Smart TV  1868.45  100.020446                    5\n",
            "39       TV Led UHD 4K  2677.41  140.148467                    1\n",
            "...                ...      ...         ...                  ...\n",
            "2297         Geladeira  2329.25  121.609994                    3\n",
            "2308       Tablet ABXY  2336.77  132.227982                    5\n",
            "2325  Celular Plus X42  3358.98  176.440019                    5\n",
            "2336     TV Led UHD 4K  3784.67  199.106731                    4\n",
            "2346       Lava louças  2033.43  105.858469                    3\n",
            "\n",
            "[205 rows x 4 columns]\n"
          ]
        }
      ]
    },
    {
      "cell_type": "code",
      "source": [
        "# Frete médio por categoria\n",
        "frete_por_categoria4 = loja4.groupby(\"Categoria do Produto\")[\"Frete\"].mean().sort_values(ascending=False)\n",
        "print(\"Frete médio por categoria:\\n\")\n",
        "print(frete_por_categoria4.round(2))\n"
      ],
      "metadata": {
        "colab": {
          "base_uri": "https://localhost:8080/"
        },
        "outputId": "82521894-d97d-4fc8-d016-27734f19820c",
        "id": "M2C2_IKlIkuV"
      },
      "execution_count": 312,
      "outputs": [
        {
          "output_type": "stream",
          "name": "stdout",
          "text": [
            "Frete médio por categoria:\n",
            "\n",
            "Categoria do Produto\n",
            "eletrodomesticos         78.86\n",
            "eletronicos              64.53\n",
            "instrumentos musicais    31.01\n",
            "moveis                   28.43\n",
            "esporte e lazer           8.52\n",
            "utilidades domesticas     5.67\n",
            "brinquedos                4.39\n",
            "livros                    3.86\n",
            "Name: Frete, dtype: float64\n"
          ]
        }
      ]
    },
    {
      "cell_type": "code",
      "source": [
        "# Frete médio por produto\n",
        "frete_por_produto4 = loja4.groupby(\"Produto\")[\"Frete\"].mean().sort_values(ascending=False)\n",
        "print(\"Frete médio por produto (Loja 4):\\n\")\n",
        "print(frete_por_produto4.head(10).round(2))\n"
      ],
      "metadata": {
        "colab": {
          "base_uri": "https://localhost:8080/"
        },
        "outputId": "a04a9afd-242a-4b18-ee7d-704149704856",
        "id": "HZ7t9ouTIkuV"
      },
      "execution_count": 313,
      "outputs": [
        {
          "output_type": "stream",
          "name": "stdout",
          "text": [
            "Frete médio por produto (Loja 4):\n",
            "\n",
            "Produto\n",
            "TV Led UHD 4K         159.85\n",
            "Celular Plus X42      142.84\n",
            "Geladeira             139.96\n",
            "Smart TV              108.82\n",
            "Lavadora de roupas     97.99\n",
            "Lava louças            91.51\n",
            "Tablet ABXY            90.43\n",
            "Secadora de roupas     74.34\n",
            "Celular ABXY           73.12\n",
            "Guitarra               54.60\n",
            "Name: Frete, dtype: float64\n"
          ]
        }
      ]
    },
    {
      "cell_type": "markdown",
      "source": [
        "##**Comparativo**"
      ],
      "metadata": {
        "id": "2dP6DdBKC2eO"
      }
    },
    {
      "cell_type": "code",
      "source": [
        "faturamentos = {\n",
        "    \"Loja 1\": faturamento_total,\n",
        "    \"Loja 2\": faturamento_total2,\n",
        "    \"Loja 3\": faturamento_total3,\n",
        "    \"Loja 4\": faturamento_total4\n",
        "}\n",
        "\n",
        "# Exibir ordenado por menor faturamento\n",
        "faturamentos_ordenados = dict(sorted(faturamentos.items(), key=lambda x: x[1]))\n",
        "print(\"Faturamento total por loja (do menor para o maior):\\n\")\n",
        "for lojax, valor in faturamentos_ordenados.items():\n",
        "    print(f\"{lojax}: R$ {valor:,.2f}\")\n"
      ],
      "metadata": {
        "colab": {
          "base_uri": "https://localhost:8080/"
        },
        "id": "ULaRScYcCWm9",
        "outputId": "e55ac380-0ac1-4664-9fc1-90fd2bbe6122"
      },
      "execution_count": 314,
      "outputs": [
        {
          "output_type": "stream",
          "name": "stdout",
          "text": [
            "Faturamento total por loja (do menor para o maior):\n",
            "\n",
            "Loja 4: R$ 1,384,497.58\n",
            "Loja 3: R$ 1,464,025.03\n",
            "Loja 2: R$ 1,488,459.06\n",
            "Loja 1: R$ 1,534,509.12\n"
          ]
        }
      ]
    },
    {
      "cell_type": "code",
      "source": [
        "avaliacoes_1 = {\n",
        "    \"Loja 1\": len(loja[loja[\"Avaliação da compra\"] == 1]),\n",
        "    \"Loja 2\": len(loja2[loja2[\"Avaliação da compra\"] == 1]),\n",
        "    \"Loja 3\": len(loja3[loja3[\"Avaliação da compra\"] == 1]),\n",
        "    \"Loja 4\": len(loja4[loja4[\"Avaliação da compra\"] == 1]),\n",
        "}\n",
        "\n",
        "media_avaliacoes = {\n",
        "    \"Loja 1\": loja[\"Avaliação da compra\"].mean(),\n",
        "    \"Loja 2\": loja2[\"Avaliação da compra\"].mean(),\n",
        "    \"Loja 3\": loja3[\"Avaliação da compra\"].mean(),\n",
        "    \"Loja 4\": loja4[\"Avaliação da compra\"].mean(),\n",
        "}\n",
        "\n",
        "# Total por loja manualmente (por segurança)\n",
        "total_lojas = {\n",
        "    \"Loja 1\": len(loja),\n",
        "    \"Loja 2\": len(loja2),\n",
        "    \"Loja 3\": len(loja3),\n",
        "    \"Loja 4\": len(loja4),\n",
        "}\n",
        "\n",
        "print(\"Média de avaliações e % de notas 1 por loja:\\n\")\n",
        "for loja_nome in media_avaliacoes:\n",
        "    notas1 = avaliacoes_1[loja_nome]\n",
        "    total = total_lojas[loja_nome]\n",
        "    perc_nota1 = (notas1 / total) * 100\n",
        "    print(f\"{loja_nome}: média = {media_avaliacoes[loja_nome]:.2f}, notas 1 = {notas1} ({perc_nota1:.2f}%)\")\n"
      ],
      "metadata": {
        "colab": {
          "base_uri": "https://localhost:8080/"
        },
        "id": "zrpQ9M4vJFFW",
        "outputId": "d4a3d661-93e4-4737-bf13-af6ff9b4d6e2"
      },
      "execution_count": 317,
      "outputs": [
        {
          "output_type": "stream",
          "name": "stdout",
          "text": [
            "Média de avaliações e % de notas 1 por loja:\n",
            "\n",
            "Loja 1: média = 3.98, notas 1 = 319 (13.52%)\n",
            "Loja 2: média = 4.04, notas 1 = 273 (11.57%)\n",
            "Loja 3: média = 4.05, notas 1 = 297 (12.59%)\n",
            "Loja 4: média = 4.00, notas 1 = 310 (13.15%)\n"
          ]
        }
      ]
    },
    {
      "cell_type": "code",
      "source": [
        "proporcao_eletronicos = {\n",
        "    \"Loja 1\": 37.32,\n",
        "    \"Loja 2\": 36.80,\n",
        "    \"Loja 3\": 37.41,\n",
        "    \"Loja 4\": 39.43\n",
        "}\n",
        "\n",
        "print(\"Proporção do faturamento em Eletrônicos por loja (%):\\n\")\n",
        "for loja, perc in proporcao_eletronicos.items():\n",
        "    print(f\"{loja}: {perc}%\")\n"
      ],
      "metadata": {
        "colab": {
          "base_uri": "https://localhost:8080/"
        },
        "id": "V1Ido0FgJpM1",
        "outputId": "ecf8cfb5-2980-40ce-9f21-8dc328b01d24"
      },
      "execution_count": 318,
      "outputs": [
        {
          "output_type": "stream",
          "name": "stdout",
          "text": [
            "Proporção do faturamento em Eletrônicos por loja (%):\n",
            "\n",
            "Loja 1: 37.32%\n",
            "Loja 2: 36.8%\n",
            "Loja 3: 37.41%\n",
            "Loja 4: 39.43%\n"
          ]
        }
      ]
    },
    {
      "cell_type": "code",
      "source": [],
      "metadata": {
        "id": "IxoLFA0dMfte"
      },
      "execution_count": null,
      "outputs": []
    }
  ]
}